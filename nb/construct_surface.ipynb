{
 "cells": [
  {
   "cell_type": "code",
   "execution_count": 1,
   "id": "39988f48",
   "metadata": {},
   "outputs": [],
   "source": [
    "from sympy import init_printing; init_printing();\n",
    "from IPython.core.interactiveshell import InteractiveShell\n",
    "InteractiveShell.ast_node_interactivity = \"all\""
   ]
  },
  {
   "cell_type": "code",
   "execution_count": 2,
   "id": "346f847b",
   "metadata": {},
   "outputs": [],
   "source": [
    "from silkpy.surface import ParametricSurface\n",
    "from sympy import symbols, sin, cos, pi, cot, Array, refine, Q\n",
    "from silkpy.sympy_utility import dot\n",
    "u, v = symbols('u, v', real=True)"
   ]
  },
  {
   "cell_type": "code",
   "execution_count": 3,
   "id": "70eb7b54",
   "metadata": {},
   "outputs": [],
   "source": [
    "surf_choice = 'torus'\n",
    "if surf_choice=='cylindrical':\n",
    "    R = symbols('R', positive=True)\n",
    "    s = ParametricSurface([u, v], [R*cos(u), R*sin(u), v])\n",
    "elif surf_choice=='cone':\n",
    "    w = symbols('omega', real=True)\n",
    "    s = ParametricSurface([u, v], [v*cos(u), v*sin(u), v*cot(w)])\n",
    "elif surf_choice=='Mobius':\n",
    "    theta = symbols('theta', real=True)\n",
    "    s = ParametricSurface([theta, v],\n",
    "        Array([cos(theta),                sin(theta),                0                ]) + \n",
    "        Array([sin(theta/2) * cos(theta), sin(theta/2) * sin(theta), cos(theta/2)]) * v)\n",
    "elif surf_choice=='torus':\n",
    "    from sympy import Q, ask\n",
    "    from sympy.assumptions import global_assumptions\n",
    "    a, r = symbols('a, r', real=True, positive=True)\n",
    "#     global_assumptions.add(Q.positive(a - r))\n",
    "    global_assumptions.add(Q.positive(a + r*cos(u)))\n",
    "    s = ParametricSurface([u, v], [ (a+r*cos(u)) * cos(v), (a+r*cos(u)) * sin(v), r*sin(u)])"
   ]
  },
  {
   "cell_type": "code",
   "execution_count": 4,
   "id": "a8e19bd8",
   "metadata": {},
   "outputs": [],
   "source": [
    "# from silkpy.sympy_utility import norm\n",
    "# from sympy import Abs\n",
    "# Abs(a + r * cos(u)).refine()\n",
    "# refine( Abs(a + r * cos(u)) )\n"
   ]
  },
  {
   "cell_type": "code",
   "execution_count": null,
   "id": "f8b8a1f5",
   "metadata": {},
   "outputs": [],
   "source": []
  },
  {
   "cell_type": "code",
   "execution_count": 6,
   "id": "c98d3e68",
   "metadata": {},
   "outputs": [
    {
     "data": {
      "text/latex": [
       "$\\displaystyle \\left[\\begin{matrix}r^{2} & 0\\\\0 & \\left(a + r \\cos{\\left(u \\right)}\\right)^{2}\\end{matrix}\\right]$"
      ],
      "text/plain": [
       "⎡ 2                 ⎤\n",
       "⎢r          0       ⎥\n",
       "⎢                   ⎥\n",
       "⎢                  2⎥\n",
       "⎣0   (a + r⋅cos(u)) ⎦"
      ]
     },
     "execution_count": 6,
     "metadata": {},
     "output_type": "execute_result"
    },
    {
     "data": {
      "text/latex": [
       "$\\displaystyle \\left[\\begin{matrix}\\frac{1}{r^{2}} & 0\\\\0 & \\frac{1}{\\left(a + r \\cos{\\left(u \\right)}\\right)^{2}}\\end{matrix}\\right]$"
      ],
      "text/plain": [
       "⎡1                  ⎤\n",
       "⎢──         0       ⎥\n",
       "⎢ 2                 ⎥\n",
       "⎢r                  ⎥\n",
       "⎢                   ⎥\n",
       "⎢           1       ⎥\n",
       "⎢0   ───────────────⎥\n",
       "⎢                  2⎥\n",
       "⎣    (a + r⋅cos(u)) ⎦"
      ]
     },
     "execution_count": 6,
     "metadata": {},
     "output_type": "execute_result"
    },
    {
     "data": {
      "text/latex": [
       "$\\displaystyle \\left[\\begin{matrix}\\left[\\begin{matrix}0 & 0\\\\0 & \\frac{\\left(a + r \\cos{\\left(u \\right)}\\right) \\sin{\\left(u \\right)}}{r}\\end{matrix}\\right] & \\left[\\begin{matrix}0 & - \\frac{r \\left(a + r \\cos{\\left(u \\right)}\\right) \\sin{\\left(u \\right)}}{a^{2} + 2 a r \\cos{\\left(u \\right)} + r^{2} \\cos^{2}{\\left(u \\right)}}\\\\- \\frac{r \\left(a + r \\cos{\\left(u \\right)}\\right) \\sin{\\left(u \\right)}}{a^{2} + 2 a r \\cos{\\left(u \\right)} + r^{2} \\cos^{2}{\\left(u \\right)}} & 0\\end{matrix}\\right]\\end{matrix}\\right]$"
      ],
      "text/plain": [
       "⎡                            ⎡                                  -r⋅(a + r⋅cos(\n",
       "⎢                            ⎢              0                 ────────────────\n",
       "⎢⎡0            0          ⎤  ⎢                                 2              \n",
       "⎢⎢                        ⎥  ⎢                                a  + 2⋅a⋅r⋅cos(u\n",
       "⎢⎢   (a + r⋅cos(u))⋅sin(u)⎥  ⎢                                                \n",
       "⎢⎢0  ─────────────────────⎥  ⎢  -r⋅(a + r⋅cos(u))⋅sin(u)                      \n",
       "⎢⎣             r          ⎦  ⎢──────────────────────────────                0 \n",
       "⎢                            ⎢ 2                   2    2                     \n",
       "⎣                            ⎣a  + 2⋅a⋅r⋅cos(u) + r ⋅cos (u)                  \n",
       "\n",
       "u))⋅sin(u)    ⎤⎤\n",
       "──────────────⎥⎥\n",
       "     2    2   ⎥⎥\n",
       ") + r ⋅cos (u)⎥⎥\n",
       "              ⎥⎥\n",
       "              ⎥⎥\n",
       "              ⎥⎥\n",
       "              ⎥⎥\n",
       "              ⎦⎦"
      ]
     },
     "execution_count": 6,
     "metadata": {},
     "output_type": "execute_result"
    },
    {
     "data": {
      "text/latex": [
       "$\\displaystyle \\left( \\left[\\begin{matrix}- r \\sin{\\left(u \\right)} \\cos{\\left(v \\right)} & - r \\sin{\\left(u \\right)} \\sin{\\left(v \\right)} & r \\cos{\\left(u \\right)}\\end{matrix}\\right], \\  \\left[\\begin{matrix}- \\left(a + r \\cos{\\left(u \\right)}\\right) \\sin{\\left(v \\right)} & \\left(a + r \\cos{\\left(u \\right)}\\right) \\cos{\\left(v \\right)} & 0\\end{matrix}\\right]\\right)$"
      ],
      "text/plain": [
       "([-r⋅sin(u)⋅cos(v)  -r⋅sin(u)⋅sin(v)  r⋅cos(u)], [-(a + r⋅cos(u))⋅sin(v)  (a +\n",
       " r⋅cos(u))⋅cos(v)  0])"
      ]
     },
     "execution_count": 6,
     "metadata": {},
     "output_type": "execute_result"
    },
    {
     "data": {
      "text/latex": [
       "$\\displaystyle \\left[\\begin{matrix}\\frac{1}{r} & 0\\\\0 & \\frac{\\cos{\\left(u \\right)}}{a + r \\cos{\\left(u \\right)}}\\end{matrix}\\right]$"
      ],
      "text/plain": [
       "⎡1              ⎤\n",
       "⎢─       0      ⎥\n",
       "⎢r              ⎥\n",
       "⎢               ⎥\n",
       "⎢      cos(u)   ⎥\n",
       "⎢0  ────────────⎥\n",
       "⎣   a + r⋅cos(u)⎦"
      ]
     },
     "execution_count": 6,
     "metadata": {},
     "output_type": "execute_result"
    },
    {
     "data": {
      "text/latex": [
       "$\\displaystyle \\left[\\begin{matrix}\\frac{1}{r} & 0\\\\0 & \\frac{\\cos{\\left(u \\right)}}{a + r \\cos{\\left(u \\right)}}\\end{matrix}\\right]$"
      ],
      "text/plain": [
       "⎡1              ⎤\n",
       "⎢─       0      ⎥\n",
       "⎢r              ⎥\n",
       "⎢               ⎥\n",
       "⎢      cos(u)   ⎥\n",
       "⎢0  ────────────⎥\n",
       "⎣   a + r⋅cos(u)⎦"
      ]
     },
     "execution_count": 6,
     "metadata": {},
     "output_type": "execute_result"
    }
   ],
   "source": [
    "s.metric_tensor.tensor()\n",
    "s.metric_tensor.change_config('uu').tensor()\n",
    "s.christoffel_symbol.tensor()\n",
    "r_u, r_v = s.expr().diff(u), s.expr().diff(v); r_u, r_v\n",
    "a_, b_ = r_u, r_v\n",
    "s.weingarten_matrix\n",
    "if surf_choice=='torus':\n",
    "    s.weingarten_matrix = s.weingarten_matrix.refine(Q.positive(a + r*cos(u)))\n",
    "    s.weingarten_matrix\n",
    "    "
   ]
  },
  {
   "cell_type": "code",
   "execution_count": 11,
   "id": "9b3fb1c6",
   "metadata": {},
   "outputs": [
    {
     "data": {
      "image/png": "[encoded data removed]",
      "text/latex": [
       "$\\displaystyle \\left( 0, \\  0\\right)$"
      ],
      "text/plain": [
       "(0, 0)"
      ]
     },
     "execution_count": 11,
     "metadata": {},
     "output_type": "execute_result"
    },
    {
     "data": {
      "image/png": "[encoded data removed]",
      "text/latex": [
       "$\\displaystyle \\left( \\frac{\\cos{\\left(u \\right)}}{r \\left(a + r \\cos{\\left(u \\right)}\\right)}, \\  \\frac{\\frac{a}{2} + r \\cos{\\left(u \\right)}}{r \\left(a + r \\cos{\\left(u \\right)}\\right)}\\right)$"
      ],
      "text/plain": [
       "⎛                    a             ⎞\n",
       "⎜                    ─ + r⋅cos(u)  ⎟\n",
       "⎜     cos(u)         2             ⎟\n",
       "⎜────────────────, ────────────────⎟\n",
       "⎝r⋅(a + r⋅cos(u))  r⋅(a + r⋅cos(u))⎠"
      ]
     },
     "execution_count": 11,
     "metadata": {},
     "output_type": "execute_result"
    },
    {
     "data": {
      "text/latex": [
       "$\\displaystyle \\left( \\left( \\frac{1}{r}, \\  \\left[\\begin{matrix}- \\sin{\\left(u \\right)} \\cos{\\left(v \\right)} & - \\sin{\\left(u \\right)} \\sin{\\left(v \\right)} & \\cos{\\left(u \\right)}\\end{matrix}\\right]\\right), \\  \\left( \\frac{\\cos{\\left(u \\right)}}{a + r \\cos{\\left(u \\right)}}, \\  \\left[\\begin{matrix}- \\sin{\\left(v \\right)} & \\cos{\\left(v \\right)} & 0\\end{matrix}\\right]\\right)\\right)$"
      ],
      "text/plain": [
       "⎛⎛1                                          ⎞  ⎛   cos(u)                    \n",
       "⎜⎜─, [-sin(u)⋅cos(v)  -sin(u)⋅sin(v)  cos(u)]⎟, ⎜────────────, [-sin(v)  cos(v\n",
       "⎝⎝r                                          ⎠  ⎝a + r⋅cos(u)                 \n",
       "\n",
       "     ⎞⎞\n",
       ")  0]⎟⎟\n",
       "     ⎠⎠"
      ]
     },
     "execution_count": 11,
     "metadata": {},
     "output_type": "execute_result"
    }
   ],
   "source": [
    "Wa = s.weingarten_transform(a_) \n",
    "Wb = s.weingarten_transform(b_)\n",
    "dot(Wa, b_), dot(a_, Wb)\n",
    "s.K_H\n",
    "s.prin_curvature_and_vector"
   ]
  },
  {
   "cell_type": "code",
   "execution_count": 10,
   "id": "fdd97355",
   "metadata": {},
   "outputs": [
    {
     "data": {
      "text/latex": [
       "$\\displaystyle \\left( \\left( \\frac{1}{r}, \\  \\left[\\begin{matrix}- \\sin{\\left(u \\right)} \\cos{\\left(v \\right)} & - \\sin{\\left(u \\right)} \\sin{\\left(v \\right)} & \\cos{\\left(u \\right)}\\end{matrix}\\right]\\right), \\  \\left( \\frac{\\cos{\\left(u \\right)}}{a + r \\cos{\\left(u \\right)}}, \\  \\left[\\begin{matrix}- \\sin{\\left(v \\right)} & \\cos{\\left(v \\right)} & 0\\end{matrix}\\right]\\right)\\right)$"
      ],
      "text/plain": [
       "⎛⎛1                                          ⎞  ⎛   cos(u)                    \n",
       "⎜⎜─, [-sin(u)⋅cos(v)  -sin(u)⋅sin(v)  cos(u)]⎟, ⎜────────────, [-sin(v)  cos(v\n",
       "⎝⎝r                                          ⎠  ⎝a + r⋅cos(u)                 \n",
       "\n",
       "     ⎞⎞\n",
       ")  0]⎟⎟\n",
       "     ⎠⎠"
      ]
     },
     "execution_count": 10,
     "metadata": {},
     "output_type": "execute_result"
    }
   ],
   "source": [
    "s.prin_curvature_and_vector"
   ]
  },
  {
   "cell_type": "code",
   "execution_count": 53,
   "id": "c01bebcf",
   "metadata": {},
   "outputs": [
    {
     "data": {
      "text/latex": [
       "$\\displaystyle \\left[\\begin{matrix}\\frac{1}{r} & 0\\\\0 & \\frac{\\cos{\\left(u \\right)}}{a + r \\cos{\\left(u \\right)}}\\end{matrix}\\right]$"
      ],
      "text/plain": [
       "⎡1              ⎤\n",
       "⎢─       0      ⎥\n",
       "⎢r              ⎥\n",
       "⎢               ⎥\n",
       "⎢      cos(u)   ⎥\n",
       "⎢0  ────────────⎥\n",
       "⎣   a + r⋅cos(u)⎦"
      ]
     },
     "execution_count": 53,
     "metadata": {},
     "output_type": "execute_result"
    }
   ],
   "source": [
    "s.weingarten_matrix"
   ]
  },
  {
   "cell_type": "code",
   "execution_count": null,
   "id": "fd52a548",
   "metadata": {},
   "outputs": [],
   "source": []
  },
  {
   "cell_type": "code",
   "execution_count": 32,
   "id": "c49838cd",
   "metadata": {},
   "outputs": [],
   "source": [
    "from silkpy.surface.draw import draw_surface_plotly\n",
    "\n",
    "if surf_choice=='cylindrical':\n",
    "    R = 1.0\n",
    "    s = ParametricSurface([u, v], [R*cos(u), R*sin(u), v])\n",
    "elif surf_choice=='cone':\n",
    "    w = float(pi) / 4\n",
    "    s = ParametricSurface([u, v], [v*cos(u), v*sin(u), v*cot(w)] )\n",
    "    draw_surface_plotly(s, domain=[(-2*float(pi), 2*float(pi)), (4, 6)])\n",
    "elif surf_choice=='torus':\n",
    "    draw_surface_plotly(s.subs({a: 5, r:2}), domain=[(-float(pi), float(pi)), (-float(pi), float(pi))])"
   ]
  },
  {
   "cell_type": "code",
   "execution_count": 68,
   "id": "04f46089",
   "metadata": {},
   "outputs": [],
   "source": [
    "def curvature_curve(surface):\n",
    "    from sympy import Matrix, Array, Eq\n",
    "    from sympy import Function, symbols\n",
    "    import sympy.solvers.ode as ode\n",
    "    t = symbols('t', real=True)\n",
    "    # u1, u2 = symbols('u1, u2', real=True, cls=Function)\n",
    "    u1 = Function(surface.sym(0), real=True)(t)\n",
    "    u2 = Function(surface.sym(1), real=True)(t)\n",
    "    curvature_curve_mat = Matrix([\n",
    "        [u1.diff(t)**2, -u1.diff(t) * u2.diff(t), u2.diff(t)**2], \n",
    "        Array(surface.E_F_G).subs(surface.sym(0), u1), \n",
    "        Array(surface.L_M_N).subs(surface.sym(1), u2)])\n",
    "    # typically there would be two solutions\n",
    "    sol_with_u1_equal_t = ode.systems.dsolve_system(\n",
    "        [Eq(curvature_curve_mat.det(), 0 ), Eq(u1.diff(t), 1)])[0]\n",
    "    sol_with_u2_equal_t = ode.systems.dsolve_system(\n",
    "        [Eq(curvature_curve_mat.det(), 0 ), Eq(u2.diff(t), 1)])[0]\n",
    "    return [sol_with_u1_equal_t, sol_with_u2_equal_t]"
   ]
  },
  {
   "cell_type": "code",
   "execution_count": 69,
   "id": "cc94c21a",
   "metadata": {},
   "outputs": [
    {
     "data": {
      "image/png": "[encoded data removed]",
      "text/latex": [
       "$\\displaystyle \\left[ \\left[ u{\\left(t \\right)} = C_{1} + \\int 1\\, dt, \\  v{\\left(t \\right)} = C_{2}\\right], \\  \\left[ u{\\left(t \\right)} = C_{1}, \\  v{\\left(t \\right)} = C_{2} + \\int 1\\, dt\\right]\\right]$"
      ],
      "text/plain": [
       "⎡⎡            ⌠                ⎤  ⎡                       ⌠     ⎤⎤\n",
       "⎢⎢u(t) = C₁ + ⎮ 1 dt, v(t) = C₂⎥, ⎢u(t) = C₁, v(t) = C₂ + ⎮ 1 dt⎥⎥\n",
       "⎣⎣            ⌡                ⎦  ⎣                       ⌡     ⎦⎦"
      ]
     },
     "execution_count": 69,
     "metadata": {},
     "output_type": "execute_result"
    }
   ],
   "source": [
    "curvature_curve(s)"
   ]
  },
  {
   "cell_type": "code",
   "execution_count": null,
   "id": "8307d1d6",
   "metadata": {
    "scrolled": false
   },
   "outputs": [],
   "source": []
  },
  {
   "cell_type": "code",
   "execution_count": null,
   "id": "aa7a936e",
   "metadata": {},
   "outputs": [],
   "source": [
    "dsolve(curv_eq, [Function(surface.sym(0), real=True)(t))"
   ]
  },
  {
   "cell_type": "code",
   "execution_count": null,
   "id": "abca52b2",
   "metadata": {},
   "outputs": [],
   "source": []
  },
  {
   "cell_type": "code",
   "execution_count": null,
   "id": "a18044da",
   "metadata": {},
   "outputs": [],
   "source": [
    ".refine()"
   ]
  }
 ],
 "metadata": {
  "kernelspec": {
   "display_name": "Python 3",
   "language": "python",
   "name": "python3"
  },
  "language_info": {
   "codemirror_mode": {
    "name": "ipython",
    "version": 3
   },
   "file_extension": ".py",
   "mimetype": "text/x-python",
   "name": "python",
   "nbconvert_exporter": "python",
   "pygments_lexer": "ipython3",
   "version": "3.8.0"
  }
 },
 "nbformat": 4,
 "nbformat_minor": 5
}
