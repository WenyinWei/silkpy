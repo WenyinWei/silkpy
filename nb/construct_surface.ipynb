{
 "cells": [
  {
   "cell_type": "code",
   "execution_count": null,
   "id": "39988f48",
   "metadata": {},
   "outputs": [],
   "source": [
    "from sympy import init_printing; init_printing();\n",
    "from IPython.core.interactiveshell import InteractiveShell\n",
    "InteractiveShell.ast_node_interactivity = \"all\""
   ]
  },
  {
   "cell_type": "code",
   "execution_count": null,
   "id": "346f847b",
   "metadata": {},
   "outputs": [],
   "source": [
    "from silkpy import ParametricSurface\n",
    "from sympy import symbols, sin, cos, pi, cot, Array, refine, Q\n",
    "from silkpy.sympy_utility import dot\n",
    "u, v = symbols('u, v', real=True)"
   ]
  },
  {
   "cell_type": "code",
   "execution_count": null,
   "id": "70eb7b54",
   "metadata": {},
   "outputs": [],
   "source": [
    "surf_choice = 'torus'\n",
    "if surf_choice=='cylindrical':\n",
    "    R = symbols('R', positive=True)\n",
    "    s = ParametricSurface([u, v], [R*cos(u), R*sin(u), v])\n",
    "elif surf_choice=='cone':\n",
    "    w = symbols('omega', real=True)\n",
    "    s = ParametricSurface([u, v], [v*cos(u), v*sin(u), v*cot(w)])\n",
    "elif surf_choice=='Mobius':\n",
    "    theta = symbols('theta', real=True)\n",
    "    s = ParametricSurface([theta, v],\n",
    "        Array([cos(theta),                sin(theta),                0                ]) + \n",
    "        Array([sin(theta/2) * cos(theta), sin(theta/2) * sin(theta), cos(theta/2)]) * v)\n",
    "elif surf_choice=='torus':\n",
    "    from sympy import Q, ask\n",
    "    from sympy.assumptions import global_assumptions\n",
    "    a, r = symbols('a, r', real=True, positive=True)\n",
    "#     global_assumptions.add(Q.positive(a - r))\n",
    "    global_assumptions.add(Q.positive(a + r*cos(u)))\n",
    "    s = ParametricSurface([u, v], [ (a+r*cos(u)) * cos(v), (a+r*cos(u)) * sin(v), r*sin(u)])"
   ]
  },
  {
   "cell_type": "code",
   "execution_count": null,
   "id": "faad864b",
   "metadata": {},
   "outputs": [],
   "source": [
    "s.christoffel_symbol.tensor()"
   ]
  },
  {
   "cell_type": "code",
   "execution_count": null,
   "id": "da696f65",
   "metadata": {},
   "outputs": [],
   "source": []
  },
  {
   "cell_type": "code",
   "execution_count": null,
   "id": "c98d3e68",
   "metadata": {},
   "outputs": [],
   "source": [
    "s.metric_tensor.tensor() \n",
    "s.metric_tensor.change_config('uu').tensor()\n",
    "s.christoffel_symbol.tensor()\n",
    "r_u, r_v = s.expr().diff(u), s.expr().diff(v); r_u, r_v\n",
    "a_, b_ = r_u, r_v\n",
    "s.weingarten_matrix"
   ]
  },
  {
   "cell_type": "code",
   "execution_count": null,
   "id": "9b3fb1c6",
   "metadata": {},
   "outputs": [],
   "source": [
    "Wa = s.weingarten_transform(a_) \n",
    "Wb = s.weingarten_transform(b_)\n",
    "dot(Wa, b_), dot(a_, Wb)\n",
    "s.K_H\n",
    "s.prin_curvature_and_vector\n",
    "from silkpy.sympy_utility import dot\n",
    "(_, vec1), (_, vec2) = s.prin_curvature_and_vector\n",
    "dot(vec1, vec2) # The two principal curvature vectors are perpendicular to each other."
   ]
  },
  {
   "cell_type": "code",
   "execution_count": null,
   "id": "fdd97355",
   "metadata": {},
   "outputs": [],
   "source": [
    "InteractiveShell.ast_node_interactivity = \"last\""
   ]
  },
  {
   "cell_type": "code",
   "execution_count": null,
   "id": "00ca69ff",
   "metadata": {},
   "outputs": [],
   "source": [
    "from sympy import sin, cos, pi\n",
    "from silkpy.numeric.surface.geodesic import geodesic_ncurve\n",
    "theta = pi / 24 # symbols('theta', real=True)\n",
    "t_arr, (u_arr, v_arr) = geodesic_ncurve(\n",
    "    s.subs({a:5, r:2}), [pi/4, pi/4], [cos(theta), sin(theta)])"
   ]
  },
  {
   "cell_type": "code",
   "execution_count": null,
   "id": "eff74c5b",
   "metadata": {},
   "outputs": [],
   "source": [
    "from sympy import sin, cos, pi\n",
    "from silkpy.numeric.surface.geodesic import geodesic_polar_ncoordinate\n",
    "rho_arr, theta_arr, u_grid, v_grid = geodesic_polar_ncoordinate(\n",
    "    s.subs({a:5, r:2}), [pi/4, pi/4], rho1=2.4, nrho=12, ntheta=48)\n",
    "\n",
    "from silkpy.symbolic.geometry_map import lambdify\n",
    "x_grid, y_grid, z_grid = lambdify(s.subs({a:5, r:2}))(u_grid, v_grid)"
   ]
  },
  {
   "cell_type": "code",
   "execution_count": null,
   "id": "c49838cd",
   "metadata": {},
   "outputs": [],
   "source": [
    "from silkpy.symbolic.surface.draw import draw_surface_plotly\n",
    "import plotly.graph_objects as go\n",
    "\n",
    "if surf_choice=='cylindrical':\n",
    "    R = 1.0\n",
    "    s = ParametricSurface([u, v], [R*cos(u), R*sin(u), v])\n",
    "elif surf_choice=='cone':\n",
    "    w = float(pi) / 4\n",
    "    s = ParametricSurface([u, v], [v*cos(u), v*sin(u), v*cot(w)] )\n",
    "    fig = draw_surface_plotly(s, domain=[(-2*float(pi), 2*float(pi)), (4, 6)])\n",
    "elif surf_choice=='torus':\n",
    "    fig = draw_surface_plotly(s.subs({a: 5, r:2}), domain=[(-float(pi), float(pi)), (-float(pi), float(pi))])\n",
    "\n",
    "# fig.add_trace(go.Scatter3d(\n",
    "#     x=x_arr, y=y_arr, z=z_arr,\n",
    "#     mode='lines',\n",
    "#     line=dict(color=t_arr, width=2)\n",
    "# ))\n",
    "\n",
    "import numpy as np\n",
    "for i in range(len(theta_arr)):\n",
    "    fig.add_trace(go.Scatter3d(\n",
    "        x=x_grid[:, i], \n",
    "        y=y_grid[:, i], \n",
    "        z=z_grid[:, i],\n",
    "        mode='lines',\n",
    "        line=dict(color=rho_arr, width=2)\n",
    "    ))\n",
    "    \n",
    "for i in range(len(rho_arr)):\n",
    "    fig.add_trace(go.Scatter3d(\n",
    "        x=np.r_[x_grid[i,:], x_grid[i,:]], \n",
    "        y=np.r_[y_grid[i,:], y_grid[i,:]], \n",
    "        z=np.r_[z_grid[i,:], z_grid[i,:]],\n",
    "        mode='lines',\n",
    "        line=dict(color=rho_arr[i], width=2)\n",
    "    ))\n",
    "fig.show()"
   ]
  },
  {
   "cell_type": "markdown",
   "id": "9467268b",
   "metadata": {},
   "source": [
    "## Not yet done"
   ]
  },
  {
   "cell_type": "code",
   "execution_count": null,
   "id": "f6f5e791",
   "metadata": {},
   "outputs": [],
   "source": [
    "from sympy import series, Eq\n",
    "t0 = symbols('t_0', real=True)"
   ]
  },
  {
   "cell_type": "code",
   "execution_count": null,
   "id": "50f0fdb3",
   "metadata": {},
   "outputs": [],
   "source": [
    "t0 = 0\n",
    "exprs[0].subs(t, t0) + (t-t0) * exprs[0].diff(t, 1).subs(t, t0)\n",
    "exprs[1].subs(t, t0) + (t-t0) * exprs[1].diff(t, 1).subs(t, t0)"
   ]
  },
  {
   "cell_type": "code",
   "execution_count": null,
   "id": "3892f7bf",
   "metadata": {},
   "outputs": [],
   "source": [
    "exprs[0].evalf(subs={t:0}) + exprs[0].diff(t, 1).evalf(subs={t:0})"
   ]
  },
  {
   "cell_type": "code",
   "execution_count": null,
   "id": "edf61c83",
   "metadata": {
    "scrolled": false
   },
   "outputs": [],
   "source": [
    "from sympy import Eq\n",
    "import sympy.solvers.ode as ode\n",
    "ode.systems.dsolve_system([\n",
    "    Eq(linearized_exprs[0], 0), \n",
    "    Eq(linearized_exprs[1], 0)], funcs=[u1, u2])"
   ]
  },
  {
   "cell_type": "code",
   "execution_count": null,
   "id": "6c7b55b9",
   "metadata": {},
   "outputs": [],
   "source": []
  },
  {
   "cell_type": "code",
   "execution_count": null,
   "id": "04f46089",
   "metadata": {},
   "outputs": [],
   "source": [
    "def curvature_curve(surface):\n",
    "    from sympy import Matrix, Array, Eq\n",
    "    from sympy import Function, symbols\n",
    "    import sympy.solvers.ode as ode\n",
    "    t = symbols('t', real=True)\n",
    "    # u1, u2 = symbols('u1, u2', real=True, cls=Function)\n",
    "    u1 = Function(surface.sym(0), real=True)(t)\n",
    "    u2 = Function(surface.sym(1), real=True)(t)\n",
    "    curvature_curve_mat = Matrix([\n",
    "        [u1.diff(t)**2, -u1.diff(t) * u2.diff(t), u2.diff(t)**2], \n",
    "        Array(surface.E_F_G).subs(surface.sym(0), u1), \n",
    "        Array(surface.L_M_N).subs(surface.sym(1), u2)])\n",
    "    # typically there would be two solutions\n",
    "    sol_with_u1_equal_t = ode.systems.dsolve_system(\n",
    "        [Eq(curvature_curve_mat.det(), 0 ), Eq(u1.diff(t), 1)])[0]\n",
    "    sol_with_u2_equal_t = ode.systems.dsolve_system(\n",
    "        [Eq(curvature_curve_mat.det(), 0 ), Eq(u2.diff(t), 1)])[0]\n",
    "    return [sol_with_u1_equal_t, sol_with_u2_equal_t]"
   ]
  },
  {
   "cell_type": "code",
   "execution_count": null,
   "id": "cc94c21a",
   "metadata": {},
   "outputs": [],
   "source": [
    "curvature_curve(s)"
   ]
  },
  {
   "cell_type": "code",
   "execution_count": null,
   "id": "abca52b2",
   "metadata": {},
   "outputs": [],
   "source": []
  }
 ],
 "metadata": {
  "kernelspec": {
   "display_name": "Python 3",
   "language": "python",
   "name": "python3"
  },
  "language_info": {
   "codemirror_mode": {
    "name": "ipython",
    "version": 3
   },
   "file_extension": ".py",
   "mimetype": "text/x-python",
   "name": "python",
   "nbconvert_exporter": "python",
   "pygments_lexer": "ipython3",
   "version": "3.8.0"
  }
 },
 "nbformat": 4,
 "nbformat_minor": 5
}
