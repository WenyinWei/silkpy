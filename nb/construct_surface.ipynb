{
 "cells": [
  {
   "cell_type": "code",
   "execution_count": 1,
   "id": "39988f48",
   "metadata": {},
   "outputs": [],
   "source": [
    "from IPython.core.interactiveshell import InteractiveShell\n",
    "InteractiveShell.ast_node_interactivity = \"all\""
   ]
  },
  {
   "cell_type": "code",
   "execution_count": 6,
   "id": "346f847b",
   "metadata": {},
   "outputs": [],
   "source": [
    "from silkpy.surface import ParametricSurface\n",
    "from sympy import symbols, sin, cos, pi, cot, Array\n",
    "u, v = symbols('u, v', real=True)"
   ]
  },
  {
   "cell_type": "code",
   "execution_count": 7,
   "id": "9b3fb1c6",
   "metadata": {},
   "outputs": [],
   "source": [
    "R = symbols('R', positive=True)\n",
    "canonical_cylindricl_surface = ParametricSurface([R*cos(u), R*sin(u), v], [u, v])"
   ]
  },
  {
   "cell_type": "code",
   "execution_count": 8,
   "id": "c49838cd",
   "metadata": {},
   "outputs": [],
   "source": [
    "w = symbols('omega', real=True)\n",
    "canonical_cone_surface = ParametricSurface([v*cos(u), v*sin(u), v*cot(w)], [u, v])"
   ]
  },
  {
   "cell_type": "code",
   "execution_count": 9,
   "id": "04f46089",
   "metadata": {},
   "outputs": [],
   "source": [
    "theta = symbols('theta', real=True)\n",
    "Mobius_strip = ParametricSurface(\n",
    "    Array([cos(theta), \n",
    "           sin(theta), \n",
    "           0]) + \n",
    "    v * Array([sin(theta/2) * cos(theta), \n",
    "               sin(theta/2) * sin(theta), \n",
    "               cos(theta/2)]), [u, v])"
   ]
  },
  {
   "cell_type": "code",
   "execution_count": null,
   "id": "cc94c21a",
   "metadata": {},
   "outputs": [],
   "source": []
  },
  {
   "cell_type": "code",
   "execution_count": null,
   "id": "07d66841",
   "metadata": {},
   "outputs": [],
   "source": []
  }
 ],
 "metadata": {
  "kernelspec": {
   "display_name": "Python 3",
   "language": "python",
   "name": "python3"
  },
  "language_info": {
   "codemirror_mode": {
    "name": "ipython",
    "version": 3
   },
   "file_extension": ".py",
   "mimetype": "text/x-python",
   "name": "python",
   "nbconvert_exporter": "python",
   "pygments_lexer": "ipython3",
   "version": "3.7.5"
  }
 },
 "nbformat": 4,
 "nbformat_minor": 5
}
