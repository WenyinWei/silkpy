{
 "cells": [
  {
   "cell_type": "code",
   "execution_count": null,
   "id": "39988f48",
   "metadata": {},
   "outputs": [],
   "source": [
    "from sympy import init_printing; init_printing();\n",
    "from IPython.core.interactiveshell import InteractiveShell\n",
    "InteractiveShell.ast_node_interactivity = \"all\""
   ]
  },
  {
   "cell_type": "code",
   "execution_count": null,
   "id": "346f847b",
   "metadata": {},
   "outputs": [],
   "source": [
    "from silkpy.surface import ParametricSurface\n",
    "from sympy import symbols, sin, cos, pi, cot, Array\n",
    "from silkpy.sympy_utility import dot\n",
    "u, v = symbols('u, v', real=True)"
   ]
  },
  {
   "cell_type": "code",
   "execution_count": null,
   "id": "70eb7b54",
   "metadata": {},
   "outputs": [],
   "source": [
    "surf_choice = 'Mobius'\n",
    "if surf_choice=='cylindrical':\n",
    "    R = symbols('R', positive=True)\n",
    "    s = ParametricSurface([R*cos(u), R*sin(u), v], [u, v])\n",
    "elif surf_choice=='cone':\n",
    "    w = symbols('omega', real=True)\n",
    "    s = ParametricSurface([v*cos(u), v*sin(u), v*cot(w)], [u, v])\n",
    "elif surf_choice=='Mobius':\n",
    "    theta = symbols('theta', real=True)\n",
    "    s = ParametricSurface(\n",
    "        Array([cos(theta), \n",
    "               sin(theta), \n",
    "               0]) + \n",
    "        Array([sin(theta/2) * cos(theta), \n",
    "               sin(theta/2) * sin(theta), \n",
    "               cos(theta/2)]) * v, [theta, v])"
   ]
  },
  {
   "cell_type": "code",
   "execution_count": null,
   "id": "9b3fb1c6",
   "metadata": {},
   "outputs": [],
   "source": [
    "s.metric_tensor().tensor().simplify()\n",
    "s.metric_tensor().change_config('uu').tensor()\n",
    "s.christoffel_symbol().tensor().simplify()\n",
    "r_u, r_v = s.expr().diff(u), s.expr().diff(v)\n",
    "a, b = r_u, r_v\n",
    "s.weingarten_matrix()\n",
    "Wa = s.weingarten_transform(a) \n",
    "Wb = s.weingarten_transform(b)\n",
    "dot(Wa, b), dot(a, Wb)\n",
    "s.K_H()\n",
    "s.prin_curvature_and_vector()"
   ]
  },
  {
   "cell_type": "code",
   "execution_count": null,
   "id": "c49838cd",
   "metadata": {},
   "outputs": [],
   "source": [
    "from silkpy.surface.draw import draw_surface_plotly\n",
    "\n",
    "if surf_choice=='cylindrical':\n",
    "    R = 1.0\n",
    "    s = ParametricSurface([R*cos(u), R*sin(u), v], [u, v])\n",
    "elif surf_choice=='cone':\n",
    "    w = float(pi) / 4\n",
    "    s = ParametricSurface([v*cos(u), v*sin(u), v*cot(w)], [u, v])\n",
    "    draw_surface_plotly(s, domain=[(-2*float(pi), 2*float(pi)), (4, 6)])\n",
    "\n"
   ]
  },
  {
   "cell_type": "code",
   "execution_count": null,
   "id": "04f46089",
   "metadata": {},
   "outputs": [],
   "source": []
  },
  {
   "cell_type": "code",
   "execution_count": null,
   "id": "cc94c21a",
   "metadata": {},
   "outputs": [],
   "source": []
  },
  {
   "cell_type": "code",
   "execution_count": null,
   "id": "07d66841",
   "metadata": {},
   "outputs": [],
   "source": []
  }
 ],
 "metadata": {
  "kernelspec": {
   "display_name": "Python 3",
   "language": "python",
   "name": "python3"
  },
  "language_info": {
   "codemirror_mode": {
    "name": "ipython",
    "version": 3
   },
   "file_extension": ".py",
   "mimetype": "text/x-python",
   "name": "python",
   "nbconvert_exporter": "python",
   "pygments_lexer": "ipython3",
   "version": "3.7.5"
  }
 },
 "nbformat": 4,
 "nbformat_minor": 5
}
