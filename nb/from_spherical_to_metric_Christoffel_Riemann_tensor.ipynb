{
 "cells": [
  {
   "cell_type": "code",
   "execution_count": 10,
   "id": "1779c5f6",
   "metadata": {},
   "outputs": [],
   "source": [
    "from sympy import init_printing; init_printing();\n",
    "from sympy import symbols, sin, cos, tan, acos, sqrt, Eq, Function, Array\n",
    "from einsteinpy.symbolic import MetricTensor, ChristoffelSymbols, RiemannCurvatureTensor\n",
    "\n",
    "from IPython.core.interactiveshell import InteractiveShell\n",
    "InteractiveShell.ast_node_interactivity = \"all\" # display all expression in one cell instead of the last one"
   ]
  },
  {
   "cell_type": "markdown",
   "id": "2dd0c645",
   "metadata": {},
   "source": [
    "## Spherical Coordinates\n",
    "\n",
    "Transform Relation from $(r, \\theta, \\phi)$ to $(x, y, z)$:\n",
    "\n",
    "\\begin{equation}\n",
    "\\left\\{\\begin{matrix}\n",
    "x =& r \\sin\\theta & \\cos\\phi \\\\ \n",
    "y =& r \\sin\\theta & \\sin\\phi \\\\ \n",
    "z =& r \\cos\\theta &\n",
    "\\end{matrix}\\right.\n",
    "\\end{equation}\n",
    "\n",
    "Transform Relation from $(x, y, z)$ to $(r, \\theta, \\phi)$:\n",
    "\\begin{equation}\n",
    "\\left\\{\\begin{matrix}\n",
    " & r^2 =& x^2+y^2+z^2 & \\\\ \n",
    "\\tan & \\phi  =& y/x & \\\\ \n",
    "& \\theta =& \\arccos (z/r) & = \\arccos (\\frac{z}{\\sqrt{x^2+y^2+z^2}}) \n",
    "\\end{matrix}\\right.\n",
    "\\end{equation}"
   ]
  },
  {
   "cell_type": "code",
   "execution_count": 38,
   "id": "c8b10e05",
   "metadata": {},
   "outputs": [],
   "source": [
    "r, theta, phi = symbols('r theta phi', real=True)\n",
    "x, y, z = [f(r,theta,phi) for f in symbols('x, y, z', real=True, cls=Function)]"
   ]
  },
  {
   "cell_type": "code",
   "execution_count": 41,
   "id": "da42d079",
   "metadata": {},
   "outputs": [
    {
     "data": {
      "image/png": "[encoded data removed]",
      "text/latex": [
       "$\\displaystyle x{\\left(r,\\theta,\\phi \\right)} = r \\sin{\\left(\\theta \\right)} \\cos{\\left(\\phi \\right)}$"
      ],
      "text/plain": [
       "x(r, θ, φ) = r⋅sin(θ)⋅cos(φ)"
      ]
     },
     "execution_count": 41,
     "metadata": {},
     "output_type": "execute_result"
    },
    {
     "data": {
      "image/png": "[encoded data removed]",
      "text/latex": [
       "$\\displaystyle y{\\left(r,\\theta,\\phi \\right)} = r \\sin{\\left(\\phi \\right)} \\sin{\\left(\\theta \\right)}$"
      ],
      "text/plain": [
       "y(r, θ, φ) = r⋅sin(φ)⋅sin(θ)"
      ]
     },
     "execution_count": 41,
     "metadata": {},
     "output_type": "execute_result"
    },
    {
     "data": {
      "image/png": "[encoded data removed]",
      "text/latex": [
       "$\\displaystyle z{\\left(r,\\theta,\\phi \\right)} = r \\cos{\\left(\\theta \\right)}$"
      ],
      "text/plain": [
       "z(r, θ, φ) = r⋅cos(θ)"
      ]
     },
     "execution_count": 41,
     "metadata": {},
     "output_type": "execute_result"
    }
   ],
   "source": [
    "\n",
    "eq_list = [\n",
    "    Eq(x, r * sin(theta) * cos(phi)),\n",
    "    Eq(y, r * sin(theta) * sin(phi)),\n",
    "    Eq(z, r * cos(theta))]\n",
    "for eq in eq_list: eq\n",
    "diffed_eq_list = []\n",
    "for eq in eq_list:\n",
    "    for var in [r, theta, phi]:\n",
    "        diffed_eq_list.append(\n",
    "            Eq(eq.lhs.diff(var),\n",
    "               eq.rhs.diff(var)))# .subs(x**2+y**2+z**2, r**2).simplify() )"
   ]
  },
  {
   "cell_type": "code",
   "execution_count": 42,
   "id": "fbda1402",
   "metadata": {},
   "outputs": [
    {
     "data": {
      "image/png": "[encoded data removed]",
      "text/latex": [
       "$\\displaystyle \\frac{\\partial}{\\partial r} x{\\left(r,\\theta,\\phi \\right)} = \\sin{\\left(\\theta \\right)} \\cos{\\left(\\phi \\right)}$"
      ],
      "text/plain": [
       "∂                             \n",
       "──(x(r, θ, φ)) = sin(θ)⋅cos(φ)\n",
       "∂r                            "
      ]
     },
     "execution_count": 42,
     "metadata": {},
     "output_type": "execute_result"
    },
    {
     "data": {
      "image/png": "[encoded data removed]",
      "text/latex": [
       "$\\displaystyle \\frac{\\partial}{\\partial \\theta} x{\\left(r,\\theta,\\phi \\right)} = r \\cos{\\left(\\phi \\right)} \\cos{\\left(\\theta \\right)}$"
      ],
      "text/plain": [
       "∂                               \n",
       "──(x(r, θ, φ)) = r⋅cos(φ)⋅cos(θ)\n",
       "∂θ                              "
      ]
     },
     "execution_count": 42,
     "metadata": {},
     "output_type": "execute_result"
    },
    {
     "data": {
      "image/png": "[encoded data removed]",
      "text/latex": [
       "$\\displaystyle \\frac{\\partial}{\\partial \\phi} x{\\left(r,\\theta,\\phi \\right)} = - r \\sin{\\left(\\phi \\right)} \\sin{\\left(\\theta \\right)}$"
      ],
      "text/plain": [
       "∂                                \n",
       "──(x(r, θ, φ)) = -r⋅sin(φ)⋅sin(θ)\n",
       "∂φ                               "
      ]
     },
     "execution_count": 42,
     "metadata": {},
     "output_type": "execute_result"
    },
    {
     "data": {
      "image/png": "[encoded data removed]",
      "text/latex": [
       "$\\displaystyle \\frac{\\partial}{\\partial r} y{\\left(r,\\theta,\\phi \\right)} = \\sin{\\left(\\phi \\right)} \\sin{\\left(\\theta \\right)}$"
      ],
      "text/plain": [
       "∂                             \n",
       "──(y(r, θ, φ)) = sin(φ)⋅sin(θ)\n",
       "∂r                            "
      ]
     },
     "execution_count": 42,
     "metadata": {},
     "output_type": "execute_result"
    },
    {
     "data": {
      "image/png": "[encoded data removed]",
      "text/latex": [
       "$\\displaystyle \\frac{\\partial}{\\partial \\theta} y{\\left(r,\\theta,\\phi \\right)} = r \\sin{\\left(\\phi \\right)} \\cos{\\left(\\theta \\right)}$"
      ],
      "text/plain": [
       "∂                               \n",
       "──(y(r, θ, φ)) = r⋅sin(φ)⋅cos(θ)\n",
       "∂θ                              "
      ]
     },
     "execution_count": 42,
     "metadata": {},
     "output_type": "execute_result"
    },
    {
     "data": {
      "image/png": "[encoded data removed]",
      "text/latex": [
       "$\\displaystyle \\frac{\\partial}{\\partial \\phi} y{\\left(r,\\theta,\\phi \\right)} = r \\sin{\\left(\\theta \\right)} \\cos{\\left(\\phi \\right)}$"
      ],
      "text/plain": [
       "∂                               \n",
       "──(y(r, θ, φ)) = r⋅sin(θ)⋅cos(φ)\n",
       "∂φ                              "
      ]
     },
     "execution_count": 42,
     "metadata": {},
     "output_type": "execute_result"
    },
    {
     "data": {
      "image/png": "[encoded data removed]",
      "text/latex": [
       "$\\displaystyle \\frac{\\partial}{\\partial r} z{\\left(r,\\theta,\\phi \\right)} = \\cos{\\left(\\theta \\right)}$"
      ],
      "text/plain": [
       "∂                      \n",
       "──(z(r, θ, φ)) = cos(θ)\n",
       "∂r                     "
      ]
     },
     "execution_count": 42,
     "metadata": {},
     "output_type": "execute_result"
    },
    {
     "data": {
      "image/png": "[encoded data removed]",
      "text/latex": [
       "$\\displaystyle \\frac{\\partial}{\\partial \\theta} z{\\left(r,\\theta,\\phi \\right)} = - r \\sin{\\left(\\theta \\right)}$"
      ],
      "text/plain": [
       "∂                         \n",
       "──(z(r, θ, φ)) = -r⋅sin(θ)\n",
       "∂θ                        "
      ]
     },
     "execution_count": 42,
     "metadata": {},
     "output_type": "execute_result"
    },
    {
     "data": {
      "image/png": "[encoded data removed]",
      "text/latex": [
       "$\\displaystyle \\frac{\\partial}{\\partial \\phi} z{\\left(r,\\theta,\\phi \\right)} = 0$"
      ],
      "text/plain": [
       "∂                 \n",
       "──(z(r, θ, φ)) = 0\n",
       "∂φ                "
      ]
     },
     "execution_count": 42,
     "metadata": {},
     "output_type": "execute_result"
    }
   ],
   "source": [
    "for diffed_eq in diffed_eq_list: diffed_eq"
   ]
  },
  {
   "cell_type": "markdown",
   "id": "be5064a0",
   "metadata": {},
   "source": [
    "\\begin{equation}\n",
    "\\vec{e}_{1} = \\frac{\\partial \\vec{r}}{\\partial r} = \\frac{\\partial (x\\hat{x}+y\\hat{y}+z\\hat{z})}{\\partial r},\\quad\n",
    "\\vec{e}_{2} = \\frac{\\partial \\vec{r}}{\\partial \\theta} = \\frac{\\partial (x\\hat{x}+y\\hat{y}+z\\hat{z})}{\\partial \\theta},\\quad\n",
    "\\vec{e}_{3} = \\frac{\\partial \\vec{r}}{\\partial \\phi} = \\frac{\\partial (x\\hat{x}+y\\hat{y}+z\\hat{z})}{\\partial \\phi}\n",
    "\\end{equation}"
   ]
  },
  {
   "cell_type": "code",
   "execution_count": 50,
   "id": "910f370d",
   "metadata": {},
   "outputs": [],
   "source": [
    "from einsteinpy.symbolic.vector import GenericVector\n",
    "\n",
    "e_i = [None, None, None] # The three components would be \n",
    "for i, var in enumerate([r, theta, phi]):\n",
    "    e_i_temp = Array([x.diff(var), y.diff(var), z.diff(var)])\n",
    "    for eq in diffed_eq_list:\n",
    "        e_i_temp = e_i_temp.subs(eq.lhs, eq.rhs)\n",
    "    e_i[i] = e_i_temp"
   ]
  },
  {
   "cell_type": "code",
   "execution_count": 54,
   "id": "99a91734",
   "metadata": {},
   "outputs": [
    {
     "data": {
      "image/png": "[encoded data removed]",
      "text/latex": [
       "$\\displaystyle \\left[ \\left[ 1, \\  0, \\  0\\right], \\  \\left[ 0, \\  r^{2}, \\  0\\right], \\  \\left[ 0, \\  0, \\  r^{2} \\sin^{2}{\\left(\\theta \\right)}\\right]\\right]$"
      ],
      "text/plain": [
       "⎡           ⎡    2   ⎤  ⎡       2    2   ⎤⎤\n",
       "⎣[1, 0, 0], ⎣0, r , 0⎦, ⎣0, 0, r ⋅sin (θ)⎦⎦"
      ]
     },
     "execution_count": 54,
     "metadata": {},
     "output_type": "execute_result"
    }
   ],
   "source": [
    "from sympy import trigsimp\n",
    "# define the metric for 3d spherical coordinates\n",
    "metric = [[0 for i in range(3)] for i in range(3)]\n",
    "for i in range(3):\n",
    "    for j in range(3):\n",
    "        metric[i][j] = (lambda vec1, vec2: \n",
    "                        vec1[0]*vec2[0] + vec1[1]*vec2[1] + vec1[2]*vec2[2])(e_i[i], e_i[j])\n",
    "        metric[i][j] = trigsimp(metric[i][j])\n",
    "        # metric[i][j]\n",
    "metric"
   ]
  },
  {
   "cell_type": "code",
   "execution_count": 55,
   "id": "0da3951a",
   "metadata": {},
   "outputs": [
    {
     "data": {
      "text/latex": [
       "$\\displaystyle \\left[\\begin{matrix}1 & 0 & 0\\\\0 & r^{2} & 0\\\\0 & 0 & r^{2} \\sin^{2}{\\left(\\theta \\right)}\\end{matrix}\\right]$"
      ],
      "text/plain": [
       "⎡1  0       0     ⎤\n",
       "⎢                 ⎥\n",
       "⎢    2            ⎥\n",
       "⎢0  r       0     ⎥\n",
       "⎢                 ⎥\n",
       "⎢        2    2   ⎥\n",
       "⎣0  0   r ⋅sin (θ)⎦"
      ]
     },
     "execution_count": 55,
     "metadata": {},
     "output_type": "execute_result"
    }
   ],
   "source": [
    "# define the metric for 3d spherical coordinates\n",
    "metric = [[0 for i in range(3)] for i in range(3)]\n",
    "metric[0][0] = 1\n",
    "metric[1][1] = r**2\n",
    "metric[2][2] = (r**2)*(sin(theta)**2)\n",
    "# creating metric object\n",
    "m_obj = MetricTensor(metric, (r, theta, phi), config='ll')\n",
    "m_obj.tensor()"
   ]
  },
  {
   "cell_type": "code",
   "execution_count": 33,
   "id": "2c495067",
   "metadata": {},
   "outputs": [
    {
     "data": {
      "text/plain": [
       "'ull'"
      ]
     },
     "execution_count": 33,
     "metadata": {},
     "output_type": "execute_result"
    }
   ],
   "source": [
    "ch = ChristoffelSymbols.from_metric(m_obj)\n",
    "ch.config"
   ]
  },
  {
   "cell_type": "code",
   "execution_count": 34,
   "id": "ad8a4a81",
   "metadata": {},
   "outputs": [
    {
     "data": {
      "text/latex": [
       "$\\displaystyle \\left[\\begin{matrix}\\left[\\begin{matrix}0 & 0 & 0\\\\0 & 0 & 0\\\\0 & 0 & 0\\end{matrix}\\right] & \\left[\\begin{matrix}0 & 0 & 0\\\\0 & 0 & 0\\\\0 & 0 & 0\\end{matrix}\\right] & \\left[\\begin{matrix}0 & 0 & 0\\\\0 & 0 & 0\\\\0 & 0 & 0\\end{matrix}\\right]\\\\\\left[\\begin{matrix}0 & 0 & 0\\\\0 & 0 & 0\\\\0 & 0 & 0\\end{matrix}\\right] & \\left[\\begin{matrix}0 & 0 & 0\\\\0 & 0 & 0\\\\0 & 0 & 0\\end{matrix}\\right] & \\left[\\begin{matrix}0 & 0 & 0\\\\0 & 0 & 0\\\\0 & 0 & 0\\end{matrix}\\right]\\\\\\left[\\begin{matrix}0 & 0 & 0\\\\0 & 0 & 0\\\\0 & 0 & 0\\end{matrix}\\right] & \\left[\\begin{matrix}0 & 0 & 0\\\\0 & 0 & 0\\\\0 & 0 & 0\\end{matrix}\\right] & \\left[\\begin{matrix}0 & 0 & 0\\\\0 & 0 & 0\\\\0 & 0 & 0\\end{matrix}\\right]\\end{matrix}\\right]$"
      ],
      "text/plain": [
       "⎡⎡0  0  0⎤  ⎡0  0  0⎤  ⎡0  0  0⎤⎤\n",
       "⎢⎢       ⎥  ⎢       ⎥  ⎢       ⎥⎥\n",
       "⎢⎢0  0  0⎥  ⎢0  0  0⎥  ⎢0  0  0⎥⎥\n",
       "⎢⎢       ⎥  ⎢       ⎥  ⎢       ⎥⎥\n",
       "⎢⎣0  0  0⎦  ⎣0  0  0⎦  ⎣0  0  0⎦⎥\n",
       "⎢                               ⎥\n",
       "⎢⎡0  0  0⎤  ⎡0  0  0⎤  ⎡0  0  0⎤⎥\n",
       "⎢⎢       ⎥  ⎢       ⎥  ⎢       ⎥⎥\n",
       "⎢⎢0  0  0⎥  ⎢0  0  0⎥  ⎢0  0  0⎥⎥\n",
       "⎢⎢       ⎥  ⎢       ⎥  ⎢       ⎥⎥\n",
       "⎢⎣0  0  0⎦  ⎣0  0  0⎦  ⎣0  0  0⎦⎥\n",
       "⎢                               ⎥\n",
       "⎢⎡0  0  0⎤  ⎡0  0  0⎤  ⎡0  0  0⎤⎥\n",
       "⎢⎢       ⎥  ⎢       ⎥  ⎢       ⎥⎥\n",
       "⎢⎢0  0  0⎥  ⎢0  0  0⎥  ⎢0  0  0⎥⎥\n",
       "⎢⎢       ⎥  ⎢       ⎥  ⎢       ⎥⎥\n",
       "⎣⎣0  0  0⎦  ⎣0  0  0⎦  ⎣0  0  0⎦⎦"
      ]
     },
     "execution_count": 34,
     "metadata": {},
     "output_type": "execute_result"
    }
   ],
   "source": [
    "# Calculating Riemann Tensor from Christoffel Symbols\n",
    "rm1 = RiemannCurvatureTensor.from_christoffels(ch)\n",
    "rm1.tensor()"
   ]
  },
  {
   "cell_type": "code",
   "execution_count": 35,
   "id": "77003b9e",
   "metadata": {},
   "outputs": [
    {
     "data": {
      "text/latex": [
       "$\\displaystyle \\left[\\begin{matrix}\\left[\\begin{matrix}0 & 0 & 0\\\\0 & 0 & 0\\\\0 & 0 & 0\\end{matrix}\\right] & \\left[\\begin{matrix}0 & 0 & 0\\\\0 & 0 & 0\\\\0 & 0 & 0\\end{matrix}\\right] & \\left[\\begin{matrix}0 & 0 & 0\\\\0 & 0 & 0\\\\0 & 0 & 0\\end{matrix}\\right]\\\\\\left[\\begin{matrix}0 & 0 & 0\\\\0 & 0 & 0\\\\0 & 0 & 0\\end{matrix}\\right] & \\left[\\begin{matrix}0 & 0 & 0\\\\0 & 0 & 0\\\\0 & 0 & 0\\end{matrix}\\right] & \\left[\\begin{matrix}0 & 0 & 0\\\\0 & 0 & 0\\\\0 & 0 & 0\\end{matrix}\\right]\\\\\\left[\\begin{matrix}0 & 0 & 0\\\\0 & 0 & 0\\\\0 & 0 & 0\\end{matrix}\\right] & \\left[\\begin{matrix}0 & 0 & 0\\\\0 & 0 & 0\\\\0 & 0 & 0\\end{matrix}\\right] & \\left[\\begin{matrix}0 & 0 & 0\\\\0 & 0 & 0\\\\0 & 0 & 0\\end{matrix}\\right]\\end{matrix}\\right]$"
      ],
      "text/plain": [
       "⎡⎡0  0  0⎤  ⎡0  0  0⎤  ⎡0  0  0⎤⎤\n",
       "⎢⎢       ⎥  ⎢       ⎥  ⎢       ⎥⎥\n",
       "⎢⎢0  0  0⎥  ⎢0  0  0⎥  ⎢0  0  0⎥⎥\n",
       "⎢⎢       ⎥  ⎢       ⎥  ⎢       ⎥⎥\n",
       "⎢⎣0  0  0⎦  ⎣0  0  0⎦  ⎣0  0  0⎦⎥\n",
       "⎢                               ⎥\n",
       "⎢⎡0  0  0⎤  ⎡0  0  0⎤  ⎡0  0  0⎤⎥\n",
       "⎢⎢       ⎥  ⎢       ⎥  ⎢       ⎥⎥\n",
       "⎢⎢0  0  0⎥  ⎢0  0  0⎥  ⎢0  0  0⎥⎥\n",
       "⎢⎢       ⎥  ⎢       ⎥  ⎢       ⎥⎥\n",
       "⎢⎣0  0  0⎦  ⎣0  0  0⎦  ⎣0  0  0⎦⎥\n",
       "⎢                               ⎥\n",
       "⎢⎡0  0  0⎤  ⎡0  0  0⎤  ⎡0  0  0⎤⎥\n",
       "⎢⎢       ⎥  ⎢       ⎥  ⎢       ⎥⎥\n",
       "⎢⎢0  0  0⎥  ⎢0  0  0⎥  ⎢0  0  0⎥⎥\n",
       "⎢⎢       ⎥  ⎢       ⎥  ⎢       ⎥⎥\n",
       "⎣⎣0  0  0⎦  ⎣0  0  0⎦  ⎣0  0  0⎦⎦"
      ]
     },
     "execution_count": 35,
     "metadata": {},
     "output_type": "execute_result"
    }
   ],
   "source": [
    "# Calculating Riemann Tensor from Metric Tensor\n",
    "rm2 = RiemannCurvatureTensor.from_metric(m_obj)\n",
    "rm2.tensor()"
   ]
  },
  {
   "cell_type": "code",
   "execution_count": null,
   "id": "7c02dd59",
   "metadata": {},
   "outputs": [],
   "source": []
  },
  {
   "cell_type": "code",
   "execution_count": null,
   "id": "3739038f",
   "metadata": {},
   "outputs": [],
   "source": []
  },
  {
   "cell_type": "code",
   "execution_count": null,
   "id": "0abf3116",
   "metadata": {},
   "outputs": [],
   "source": []
  },
  {
   "cell_type": "code",
   "execution_count": null,
   "id": "6d422862",
   "metadata": {},
   "outputs": [],
   "source": []
  },
  {
   "cell_type": "code",
   "execution_count": null,
   "id": "f0d59f48",
   "metadata": {},
   "outputs": [],
   "source": []
  },
  {
   "cell_type": "code",
   "execution_count": null,
   "id": "76911548",
   "metadata": {},
   "outputs": [],
   "source": []
  },
  {
   "cell_type": "code",
   "execution_count": null,
   "id": "c7cde3c0",
   "metadata": {},
   "outputs": [],
   "source": []
  },
  {
   "cell_type": "code",
   "execution_count": null,
   "id": "cd553182",
   "metadata": {},
   "outputs": [],
   "source": []
  }
 ],
 "metadata": {
  "kernelspec": {
   "display_name": "Python 3",
   "language": "python",
   "name": "python3"
  },
  "language_info": {
   "codemirror_mode": {
    "name": "ipython",
    "version": 3
   },
   "file_extension": ".py",
   "mimetype": "text/x-python",
   "name": "python",
   "nbconvert_exporter": "python",
   "pygments_lexer": "ipython3",
   "version": "3.7.5"
  }
 },
 "nbformat": 4,
 "nbformat_minor": 5
}
