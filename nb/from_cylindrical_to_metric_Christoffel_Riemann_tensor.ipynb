{
 "cells": [
  {
   "cell_type": "code",
   "execution_count": 1,
   "id": "1779c5f6",
   "metadata": {},
   "outputs": [],
   "source": [
    "from sympy import init_printing; init_printing();\n",
    "from sympy import symbols, sin, cos, tan, acos, sqrt, Eq, Function, Array\n",
    "from einsteinpy.symbolic import MetricTensor, ChristoffelSymbols, RiemannCurvatureTensor\n",
    "\n",
    "from IPython.core.interactiveshell import InteractiveShell\n",
    "InteractiveShell.ast_node_interactivity = \"all\" # display all expression in one cell instead of the last one"
   ]
  },
  {
   "cell_type": "markdown",
   "id": "2dd0c645",
   "metadata": {},
   "source": [
    "## Cylindrical Coordinates\n",
    "\n",
    "Transform Relation from $(r, \\theta, \\phi)$ to $(x, y, z)$:\n",
    "\n",
    "\\begin{equation}\n",
    "\\left\\{\\begin{matrix}\n",
    "x =& R &\\sin\\phi \\\\ \n",
    "y =& R &\\sin\\phi \\\\ \n",
    "z =& Z &\n",
    "\\end{matrix}\\right.\n",
    "\\end{equation}\n",
    "\n",
    "Transform Relation from $(x, y, z)$ to $(r, \\theta, \\phi)$:\n",
    "\\begin{equation}\n",
    "\\left\\{\\begin{matrix}\n",
    " & R^2 =& x^2+y^2 & \\\\ \n",
    " & Z =& z & \\\\ \n",
    "\\tan & \\phi  =& y/x & \\text{(Many programming languages have atan2(y, x) to avoid the singularities)}\n",
    "\\end{matrix}\\right.\n",
    "\\end{equation}"
   ]
  },
  {
   "cell_type": "code",
   "execution_count": 4,
   "id": "c8b10e05",
   "metadata": {},
   "outputs": [],
   "source": [
    "R, Z, phi = symbols('R Z phi', real=True)\n",
    "x, y, z = [f(R, Z, phi) for f in symbols('x, y, z', real=True, cls=Function)]"
   ]
  },
  {
   "cell_type": "code",
   "execution_count": 5,
   "id": "da42d079",
   "metadata": {},
   "outputs": [
    {
     "name": "stderr",
     "output_type": "stream",
     "text": [
      "/home/wenyin/pyvenv/vsym/lib/python3.7/site-packages/IPython/lib/latextools.py:126: MatplotlibDeprecationWarning: \n",
      "The to_png function was deprecated in Matplotlib 3.4 and will be removed two minor releases later. Use mathtext.math_to_image instead.\n",
      "  mt.to_png(f, s, fontsize=12, dpi=dpi, color=color)\n",
      "/home/wenyin/pyvenv/vsym/lib/python3.7/site-packages/IPython/lib/latextools.py:126: MatplotlibDeprecationWarning: \n",
      "The to_rgba function was deprecated in Matplotlib 3.4 and will be removed two minor releases later. Use mathtext.math_to_image instead.\n",
      "  mt.to_png(f, s, fontsize=12, dpi=dpi, color=color)\n",
      "/home/wenyin/pyvenv/vsym/lib/python3.7/site-packages/IPython/lib/latextools.py:126: MatplotlibDeprecationWarning: \n",
      "The to_mask function was deprecated in Matplotlib 3.4 and will be removed two minor releases later. Use mathtext.math_to_image instead.\n",
      "  mt.to_png(f, s, fontsize=12, dpi=dpi, color=color)\n",
      "/home/wenyin/pyvenv/vsym/lib/python3.7/site-packages/IPython/lib/latextools.py:126: MatplotlibDeprecationWarning: \n",
      "The MathtextBackendBitmap class was deprecated in Matplotlib 3.4 and will be removed two minor releases later. Use mathtext.math_to_image instead.\n",
      "  mt.to_png(f, s, fontsize=12, dpi=dpi, color=color)\n"
     ]
    },
    {
     "data": {
      "image/png": "[encoded data removed]",
      "text/latex": [
       "$\\displaystyle x{\\left(R,Z,\\phi \\right)} = R \\cos{\\left(\\phi \\right)}$"
      ],
      "text/plain": [
       "x(R, Z, φ) = R⋅cos(φ)"
      ]
     },
     "execution_count": 5,
     "metadata": {},
     "output_type": "execute_result"
    },
    {
     "data": {
      "image/png": "[encoded data removed]",
      "text/latex": [
       "$\\displaystyle y{\\left(R,Z,\\phi \\right)} = R \\sin{\\left(\\phi \\right)}$"
      ],
      "text/plain": [
       "y(R, Z, φ) = R⋅sin(φ)"
      ]
     },
     "execution_count": 5,
     "metadata": {},
     "output_type": "execute_result"
    },
    {
     "data": {
      "image/png": "[encoded data removed]",
      "text/latex": [
       "$\\displaystyle z{\\left(R,Z,\\phi \\right)} = Z$"
      ],
      "text/plain": [
       "z(R, Z, φ) = Z"
      ]
     },
     "execution_count": 5,
     "metadata": {},
     "output_type": "execute_result"
    }
   ],
   "source": [
    "\n",
    "eq_list = [\n",
    "    Eq(x, R * cos(phi)),\n",
    "    Eq(y, R * sin(phi)),\n",
    "    Eq(z, Z)]\n",
    "for eq in eq_list: eq\n",
    "diffed_eq_list = []\n",
    "for eq in eq_list:\n",
    "    for var in [R, Z, phi]:\n",
    "        diffed_eq_list.append(\n",
    "            Eq(eq.lhs.diff(var),\n",
    "               eq.rhs.diff(var)))# .subs(x**2+y**2+z**2, r**2).simplify() )"
   ]
  },
  {
   "cell_type": "code",
   "execution_count": 22,
   "id": "fbda1402",
   "metadata": {},
   "outputs": [
    {
     "data": {
      "image/png": "[encoded data removed]",
      "text/latex": [
       "$\\displaystyle \\left[ \\frac{\\partial}{\\partial R} x{\\left(R,Z,\\phi \\right)} = \\cos{\\left(\\phi \\right)}, \\  \\frac{\\partial}{\\partial Z} x{\\left(R,Z,\\phi \\right)} = 0, \\  \\frac{\\partial}{\\partial \\phi} x{\\left(R,Z,\\phi \\right)} = - R \\sin{\\left(\\phi \\right)}\\right]$"
      ],
      "text/plain": [
       "⎡∂                        ∂                   ∂                         ⎤\n",
       "⎢──(x(R, Z, φ)) = cos(φ), ──(x(R, Z, φ)) = 0, ──(x(R, Z, φ)) = -R⋅sin(φ)⎥\n",
       "⎣∂R                       ∂Z                  ∂φ                        ⎦"
      ]
     },
     "execution_count": 22,
     "metadata": {},
     "output_type": "execute_result"
    },
    {
     "data": {
      "image/png": "[encoded data removed]",
      "text/latex": [
       "$\\displaystyle \\left[ \\frac{\\partial}{\\partial R} y{\\left(R,Z,\\phi \\right)} = \\sin{\\left(\\phi \\right)}, \\  \\frac{\\partial}{\\partial Z} y{\\left(R,Z,\\phi \\right)} = 0, \\  \\frac{\\partial}{\\partial \\phi} y{\\left(R,Z,\\phi \\right)} = R \\cos{\\left(\\phi \\right)}\\right]$"
      ],
      "text/plain": [
       "⎡∂                        ∂                   ∂                        ⎤\n",
       "⎢──(y(R, Z, φ)) = sin(φ), ──(y(R, Z, φ)) = 0, ──(y(R, Z, φ)) = R⋅cos(φ)⎥\n",
       "⎣∂R                       ∂Z                  ∂φ                       ⎦"
      ]
     },
     "execution_count": 22,
     "metadata": {},
     "output_type": "execute_result"
    },
    {
     "data": {
      "image/png": "[encoded data removed]",
      "text/latex": [
       "$\\displaystyle \\left[ \\frac{\\partial}{\\partial R} z{\\left(R,Z,\\phi \\right)} = 0, \\  \\frac{\\partial}{\\partial Z} z{\\left(R,Z,\\phi \\right)} = 1, \\  \\frac{\\partial}{\\partial \\phi} z{\\left(R,Z,\\phi \\right)} = 0\\right]$"
      ],
      "text/plain": [
       "⎡∂                   ∂                   ∂                 ⎤\n",
       "⎢──(z(R, Z, φ)) = 0, ──(z(R, Z, φ)) = 1, ──(z(R, Z, φ)) = 0⎥\n",
       "⎣∂R                  ∂Z                  ∂φ                ⎦"
      ]
     },
     "execution_count": 22,
     "metadata": {},
     "output_type": "execute_result"
    }
   ],
   "source": [
    "[eq for eq in diffed_eq_list[0:3]]\n",
    "[eq for eq in diffed_eq_list[3:6]]\n",
    "[eq for eq in diffed_eq_list[6:9]]"
   ]
  },
  {
   "cell_type": "markdown",
   "id": "be5064a0",
   "metadata": {},
   "source": [
    "\\begin{equation}\n",
    "\\vec{r}_{1} = \\frac{\\partial \\vec{r}}{\\partial R} = \\frac{\\partial (x\\hat{x}+y\\hat{y}+z\\hat{z})}{\\partial R},\\quad\n",
    "\\vec{r}_{2} = \\frac{\\partial \\vec{r}}{\\partial Z} = \\frac{\\partial (x\\hat{x}+y\\hat{y}+z\\hat{z})}{\\partial Z},\\quad\n",
    "\\vec{r}_{3} = \\frac{\\partial \\vec{r}}{\\partial \\phi} = \\frac{\\partial (x\\hat{x}+y\\hat{y}+z\\hat{z})}{\\partial \\phi}\n",
    "\\end{equation}"
   ]
  },
  {
   "cell_type": "code",
   "execution_count": 8,
   "id": "910f370d",
   "metadata": {},
   "outputs": [],
   "source": [
    "from einsteinpy.symbolic.vector import GenericVector\n",
    "\n",
    "r_i = [None, None, None] # The three components would be \n",
    "for i, var in enumerate([R, Z, phi]):\n",
    "    r_i_temp = Array([x.diff(var), y.diff(var), z.diff(var)])\n",
    "    for eq in diffed_eq_list:\n",
    "        r_i_temp = r_i_temp.subs(eq.lhs, eq.rhs)\n",
    "    r_i[i] = r_i_temp"
   ]
  },
  {
   "cell_type": "code",
   "execution_count": 14,
   "id": "99a91734",
   "metadata": {},
   "outputs": [
    {
     "data": {
      "text/latex": [
       "$\\displaystyle \\left[\\begin{matrix}1 & 0 & 0\\\\0 & 1 & 0\\\\0 & 0 & R^{2}\\end{matrix}\\right]$"
      ],
      "text/plain": [
       "⎡1  0  0 ⎤\n",
       "⎢        ⎥\n",
       "⎢0  1  0 ⎥\n",
       "⎢        ⎥\n",
       "⎢       2⎥\n",
       "⎣0  0  R ⎦"
      ]
     },
     "execution_count": 14,
     "metadata": {},
     "output_type": "execute_result"
    }
   ],
   "source": [
    "from sympy import trigsimp\n",
    "# define the metric for 3d spherical coordinates\n",
    "metric = [[0 for i in range(3)] for i in range(3)]\n",
    "for i in range(3):\n",
    "    for j in range(3):\n",
    "        metric[i][j] = (lambda vec1, vec2: \n",
    "                        vec1[0]*vec2[0] + vec1[1]*vec2[1] + vec1[2]*vec2[2])(r_i[i], r_i[j])\n",
    "        metric[i][j] = trigsimp(metric[i][j])\n",
    "        # metric[i][j]\n",
    "# creating metric object\n",
    "m_obj = MetricTensor(metric, (R, Z, phi), config='ll')\n",
    "m_obj.tensor()"
   ]
  },
  {
   "cell_type": "code",
   "execution_count": 15,
   "id": "2c495067",
   "metadata": {},
   "outputs": [
    {
     "data": {
      "text/plain": [
       "'ull'"
      ]
     },
     "execution_count": 15,
     "metadata": {},
     "output_type": "execute_result"
    }
   ],
   "source": [
    "ch = ChristoffelSymbols.from_metric(m_obj)\n",
    "ch.config"
   ]
  },
  {
   "cell_type": "code",
   "execution_count": 16,
   "id": "ad8a4a81",
   "metadata": {},
   "outputs": [
    {
     "data": {
      "text/latex": [
       "$\\displaystyle \\left[\\begin{matrix}\\left[\\begin{matrix}0 & 0 & 0\\\\0 & 0 & 0\\\\0 & 0 & 0\\end{matrix}\\right] & \\left[\\begin{matrix}0 & 0 & 0\\\\0 & 0 & 0\\\\0 & 0 & 0\\end{matrix}\\right] & \\left[\\begin{matrix}0 & 0 & 0\\\\0 & 0 & 0\\\\0 & 0 & 0\\end{matrix}\\right]\\\\\\left[\\begin{matrix}0 & 0 & 0\\\\0 & 0 & 0\\\\0 & 0 & 0\\end{matrix}\\right] & \\left[\\begin{matrix}0 & 0 & 0\\\\0 & 0 & 0\\\\0 & 0 & 0\\end{matrix}\\right] & \\left[\\begin{matrix}0 & 0 & 0\\\\0 & 0 & 0\\\\0 & 0 & 0\\end{matrix}\\right]\\\\\\left[\\begin{matrix}0 & 0 & 0\\\\0 & 0 & 0\\\\0 & 0 & 0\\end{matrix}\\right] & \\left[\\begin{matrix}0 & 0 & 0\\\\0 & 0 & 0\\\\0 & 0 & 0\\end{matrix}\\right] & \\left[\\begin{matrix}0 & 0 & 0\\\\0 & 0 & 0\\\\0 & 0 & 0\\end{matrix}\\right]\\end{matrix}\\right]$"
      ],
      "text/plain": [
       "⎡⎡0  0  0⎤  ⎡0  0  0⎤  ⎡0  0  0⎤⎤\n",
       "⎢⎢       ⎥  ⎢       ⎥  ⎢       ⎥⎥\n",
       "⎢⎢0  0  0⎥  ⎢0  0  0⎥  ⎢0  0  0⎥⎥\n",
       "⎢⎢       ⎥  ⎢       ⎥  ⎢       ⎥⎥\n",
       "⎢⎣0  0  0⎦  ⎣0  0  0⎦  ⎣0  0  0⎦⎥\n",
       "⎢                               ⎥\n",
       "⎢⎡0  0  0⎤  ⎡0  0  0⎤  ⎡0  0  0⎤⎥\n",
       "⎢⎢       ⎥  ⎢       ⎥  ⎢       ⎥⎥\n",
       "⎢⎢0  0  0⎥  ⎢0  0  0⎥  ⎢0  0  0⎥⎥\n",
       "⎢⎢       ⎥  ⎢       ⎥  ⎢       ⎥⎥\n",
       "⎢⎣0  0  0⎦  ⎣0  0  0⎦  ⎣0  0  0⎦⎥\n",
       "⎢                               ⎥\n",
       "⎢⎡0  0  0⎤  ⎡0  0  0⎤  ⎡0  0  0⎤⎥\n",
       "⎢⎢       ⎥  ⎢       ⎥  ⎢       ⎥⎥\n",
       "⎢⎢0  0  0⎥  ⎢0  0  0⎥  ⎢0  0  0⎥⎥\n",
       "⎢⎢       ⎥  ⎢       ⎥  ⎢       ⎥⎥\n",
       "⎣⎣0  0  0⎦  ⎣0  0  0⎦  ⎣0  0  0⎦⎦"
      ]
     },
     "execution_count": 16,
     "metadata": {},
     "output_type": "execute_result"
    }
   ],
   "source": [
    "# Calculating Riemann Tensor from Christoffel Symbols\n",
    "rm1 = RiemannCurvatureTensor.from_christoffels(ch)\n",
    "rm1.tensor()"
   ]
  },
  {
   "cell_type": "code",
   "execution_count": 17,
   "id": "77003b9e",
   "metadata": {},
   "outputs": [
    {
     "data": {
      "text/latex": [
       "$\\displaystyle \\left[\\begin{matrix}\\left[\\begin{matrix}0 & 0 & 0\\\\0 & 0 & 0\\\\0 & 0 & 0\\end{matrix}\\right] & \\left[\\begin{matrix}0 & 0 & 0\\\\0 & 0 & 0\\\\0 & 0 & 0\\end{matrix}\\right] & \\left[\\begin{matrix}0 & 0 & 0\\\\0 & 0 & 0\\\\0 & 0 & 0\\end{matrix}\\right]\\\\\\left[\\begin{matrix}0 & 0 & 0\\\\0 & 0 & 0\\\\0 & 0 & 0\\end{matrix}\\right] & \\left[\\begin{matrix}0 & 0 & 0\\\\0 & 0 & 0\\\\0 & 0 & 0\\end{matrix}\\right] & \\left[\\begin{matrix}0 & 0 & 0\\\\0 & 0 & 0\\\\0 & 0 & 0\\end{matrix}\\right]\\\\\\left[\\begin{matrix}0 & 0 & 0\\\\0 & 0 & 0\\\\0 & 0 & 0\\end{matrix}\\right] & \\left[\\begin{matrix}0 & 0 & 0\\\\0 & 0 & 0\\\\0 & 0 & 0\\end{matrix}\\right] & \\left[\\begin{matrix}0 & 0 & 0\\\\0 & 0 & 0\\\\0 & 0 & 0\\end{matrix}\\right]\\end{matrix}\\right]$"
      ],
      "text/plain": [
       "⎡⎡0  0  0⎤  ⎡0  0  0⎤  ⎡0  0  0⎤⎤\n",
       "⎢⎢       ⎥  ⎢       ⎥  ⎢       ⎥⎥\n",
       "⎢⎢0  0  0⎥  ⎢0  0  0⎥  ⎢0  0  0⎥⎥\n",
       "⎢⎢       ⎥  ⎢       ⎥  ⎢       ⎥⎥\n",
       "⎢⎣0  0  0⎦  ⎣0  0  0⎦  ⎣0  0  0⎦⎥\n",
       "⎢                               ⎥\n",
       "⎢⎡0  0  0⎤  ⎡0  0  0⎤  ⎡0  0  0⎤⎥\n",
       "⎢⎢       ⎥  ⎢       ⎥  ⎢       ⎥⎥\n",
       "⎢⎢0  0  0⎥  ⎢0  0  0⎥  ⎢0  0  0⎥⎥\n",
       "⎢⎢       ⎥  ⎢       ⎥  ⎢       ⎥⎥\n",
       "⎢⎣0  0  0⎦  ⎣0  0  0⎦  ⎣0  0  0⎦⎥\n",
       "⎢                               ⎥\n",
       "⎢⎡0  0  0⎤  ⎡0  0  0⎤  ⎡0  0  0⎤⎥\n",
       "⎢⎢       ⎥  ⎢       ⎥  ⎢       ⎥⎥\n",
       "⎢⎢0  0  0⎥  ⎢0  0  0⎥  ⎢0  0  0⎥⎥\n",
       "⎢⎢       ⎥  ⎢       ⎥  ⎢       ⎥⎥\n",
       "⎣⎣0  0  0⎦  ⎣0  0  0⎦  ⎣0  0  0⎦⎦"
      ]
     },
     "execution_count": 17,
     "metadata": {},
     "output_type": "execute_result"
    }
   ],
   "source": [
    "# Calculating Riemann Tensor from Metric Tensor\n",
    "rm2 = RiemannCurvatureTensor.from_metric(m_obj)\n",
    "rm2.tensor()"
   ]
  },
  {
   "cell_type": "code",
   "execution_count": null,
   "id": "7c02dd59",
   "metadata": {},
   "outputs": [],
   "source": []
  },
  {
   "cell_type": "code",
   "execution_count": null,
   "id": "3739038f",
   "metadata": {},
   "outputs": [],
   "source": []
  },
  {
   "cell_type": "code",
   "execution_count": null,
   "id": "0abf3116",
   "metadata": {},
   "outputs": [],
   "source": []
  },
  {
   "cell_type": "code",
   "execution_count": null,
   "id": "6d422862",
   "metadata": {},
   "outputs": [],
   "source": []
  },
  {
   "cell_type": "code",
   "execution_count": null,
   "id": "f0d59f48",
   "metadata": {},
   "outputs": [],
   "source": []
  },
  {
   "cell_type": "code",
   "execution_count": null,
   "id": "76911548",
   "metadata": {},
   "outputs": [],
   "source": []
  },
  {
   "cell_type": "code",
   "execution_count": null,
   "id": "c7cde3c0",
   "metadata": {},
   "outputs": [],
   "source": []
  },
  {
   "cell_type": "code",
   "execution_count": null,
   "id": "cd553182",
   "metadata": {},
   "outputs": [],
   "source": []
  }
 ],
 "metadata": {
  "kernelspec": {
   "display_name": "Python 3",
   "language": "python",
   "name": "python3"
  },
  "language_info": {
   "codemirror_mode": {
    "name": "ipython",
    "version": 3
   },
   "file_extension": ".py",
   "mimetype": "text/x-python",
   "name": "python",
   "nbconvert_exporter": "python",
   "pygments_lexer": "ipython3",
   "version": "3.7.5"
  }
 },
 "nbformat": 4,
 "nbformat_minor": 5
}
