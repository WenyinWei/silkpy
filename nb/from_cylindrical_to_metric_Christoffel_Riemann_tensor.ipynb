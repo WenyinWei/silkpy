{
 "cells": [
  {
   "cell_type": "code",
   "execution_count": null,
   "id": "1779c5f6",
   "metadata": {},
   "outputs": [],
   "source": [
    "from sympy import init_printing; init_printing();\n",
    "from sympy import symbols, sin, cos, tan, acos, sqrt, Eq, Function, Array\n",
    "from einsteinpy.symbolic import MetricTensor, ChristoffelSymbols, RiemannCurvatureTensor\n",
    "\n",
    "from IPython.core.interactiveshell import InteractiveShell\n",
    "InteractiveShell.ast_node_interactivity = \"all\" # display all expression in one cell instead of the last one"
   ]
  },
  {
   "cell_type": "markdown",
   "id": "2dd0c645",
   "metadata": {},
   "source": [
    "## Cylindrical Coordinates\n",
    "\n",
    "Transform Relation from $(r, \\theta, \\phi)$ to $(x, y, z)$:\n",
    "\n",
    "\\begin{equation}\n",
    "\\left\\{\\begin{matrix}\n",
    "x =& R &\\sin\\phi \\\\ \n",
    "y =& R &\\sin\\phi \\\\ \n",
    "z =& Z &\n",
    "\\end{matrix}\\right.\n",
    "\\end{equation}\n",
    "\n",
    "Transform Relation from $(x, y, z)$ to $(r, \\theta, \\phi)$:\n",
    "\\begin{equation}\n",
    "\\left\\{\\begin{matrix}\n",
    " & R^2 =& x^2+y^2 & \\\\ \n",
    " & Z =& z & \\\\ \n",
    "\\tan & \\phi  =& y/x & \n",
    "\\end{matrix}\\right.\n",
    "\\end{equation}\n",
    "\n",
    "Many programming languages have `atan2(y, x)` to avoid the function `atan(y/x)` which is not smart enough."
   ]
  },
  {
   "cell_type": "code",
   "execution_count": null,
   "id": "c8b10e05",
   "metadata": {},
   "outputs": [],
   "source": [
    "R = symbols('R', positive=True); Z, phi = symbols('Z phi', real=True)\n",
    "x, y, z = [f(R, Z, phi) for f in symbols('x, y, z', real=True, cls=Function)]"
   ]
  },
  {
   "cell_type": "code",
   "execution_count": null,
   "id": "da42d079",
   "metadata": {},
   "outputs": [],
   "source": [
    "eq_list = [\n",
    "    Eq(x, R * cos(phi)),\n",
    "    Eq(y, R * sin(phi)),\n",
    "    Eq(z, Z)]\n",
    "for eq in eq_list: eq\n",
    "diffed_eq_list = []\n",
    "for eq in eq_list:\n",
    "    for var in [R, Z, phi]:\n",
    "        diffed_eq_list.append(\n",
    "            Eq(eq.lhs.diff(var),\n",
    "               eq.rhs.diff(var)))# .subs(x**2+y**2+z**2, r**2).simplify() )"
   ]
  },
  {
   "cell_type": "code",
   "execution_count": null,
   "id": "fbda1402",
   "metadata": {},
   "outputs": [],
   "source": [
    "[eq for eq in diffed_eq_list[0:3]]\n",
    "[eq for eq in diffed_eq_list[3:6]]\n",
    "[eq for eq in diffed_eq_list[6:9]]"
   ]
  },
  {
   "cell_type": "markdown",
   "id": "be5064a0",
   "metadata": {},
   "source": [
    "\\begin{equation}\n",
    "\\vec{r}_{1} = \\frac{\\partial \\vec{r}}{\\partial R} = \\frac{\\partial (x\\hat{x}+y\\hat{y}+z\\hat{z})}{\\partial R},\\quad\n",
    "\\vec{r}_{2} = \\frac{\\partial \\vec{r}}{\\partial Z} = \\frac{\\partial (x\\hat{x}+y\\hat{y}+z\\hat{z})}{\\partial Z},\\quad\n",
    "\\vec{r}_{3} = \\frac{\\partial \\vec{r}}{\\partial \\phi} = \\frac{\\partial (x\\hat{x}+y\\hat{y}+z\\hat{z})}{\\partial \\phi}\n",
    "\\end{equation}"
   ]
  },
  {
   "cell_type": "code",
   "execution_count": null,
   "id": "910f370d",
   "metadata": {},
   "outputs": [],
   "source": [
    "r_i = [None, None, None] # The three components would be \n",
    "for i, var in enumerate([R, Z, phi]):\n",
    "    r_i_temp = Array([x.diff(var), y.diff(var), z.diff(var)])\n",
    "    for eq in diffed_eq_list:\n",
    "        r_i_temp = r_i_temp.subs(eq.lhs, eq.rhs)\n",
    "    r_i[i] = r_i_temp; r_i[i]\n",
    "    "
   ]
  },
  {
   "cell_type": "code",
   "execution_count": null,
   "id": "99a91734",
   "metadata": {},
   "outputs": [],
   "source": [
    "from sympy import trigsimp\n",
    "# define the metric for 3d cylindrical coordinates\n",
    "metric = [[0 for i in range(3)] for i in range(3)]\n",
    "for i in range(3):\n",
    "    for j in range(3):\n",
    "        metric[i][j] = (lambda vec1, vec2: \n",
    "                        vec1[0]*vec2[0] + vec1[1]*vec2[1] + vec1[2]*vec2[2])(r_i[i], r_i[j])\n",
    "        metric[i][j] = trigsimp(metric[i][j])\n",
    "        # metric[i][j]\n",
    "# creating metric object\n",
    "m_obj = MetricTensor(metric, (R, Z, phi), config='ll'); m_obj.tensor()\n",
    "g = m_obj.tensor().tomatrix().det(); g"
   ]
  },
  {
   "cell_type": "code",
   "execution_count": null,
   "id": "2c495067",
   "metadata": {},
   "outputs": [],
   "source": [
    "ch = ChristoffelSymbols.from_metric(m_obj)\n",
    "ch.config"
   ]
  },
  {
   "cell_type": "code",
   "execution_count": null,
   "id": "ad8a4a81",
   "metadata": {},
   "outputs": [],
   "source": [
    "# Calculating Riemann Tensor from Christoffel Symbols\n",
    "rm1 = RiemannCurvatureTensor.from_christoffels(ch)\n",
    "rm1.tensor()"
   ]
  },
  {
   "cell_type": "code",
   "execution_count": null,
   "id": "77003b9e",
   "metadata": {},
   "outputs": [],
   "source": [
    "# Calculating Riemann Tensor from Metric Tensor\n",
    "rm2 = RiemannCurvatureTensor.from_metric(m_obj)\n",
    "rm2.tensor()"
   ]
  },
  {
   "cell_type": "markdown",
   "id": "b22e94da",
   "metadata": {},
   "source": [
    "## Construct $\\rho$ and $\\vec{J}$ Field"
   ]
  },
  {
   "cell_type": "code",
   "execution_count": null,
   "id": "3739038f",
   "metadata": {},
   "outputs": [],
   "source": [
    "from sympy import exp, Matrix, sqrt, trigsimp\n",
    "from einsteinpy.symbolic.tensor import BaseRelativityTensor\n",
    "from einsteinpy.symbolic.vector import GenericVector\n"
   ]
  },
  {
   "cell_type": "code",
   "execution_count": null,
   "id": "79c4509b",
   "metadata": {},
   "outputs": [],
   "source": [
    "# define the Levi-Civita tensor for 3d cylindrical coordinates\n",
    "levi_civita_arr_lll = [[[0 for k in range(3)] for j in range(3)] for i in range(3)]\n",
    "for i in range(3):\n",
    "    for j in range(3):\n",
    "        for k in range(3):\n",
    "            levi_civita_arr_lll[i][j][k] = Matrix([r_i[i], r_i[j], r_i[k]]).det() / sqrt(g)\n",
    "            levi_civita_arr_lll[i][j][k] = trigsimp(levi_civita_arr_lll[i][j][k])"
   ]
  },
  {
   "cell_type": "code",
   "execution_count": null,
   "id": "06ef8eb7",
   "metadata": {},
   "outputs": [],
   "source": [
    "levi_civita = BaseRelativityTensor(\n",
    "    levi_civita_arr_lll,\n",
    "    (R,Z,phi), config='lll', parent_metric=m_obj)\n",
    "levi_civita.tensor()"
   ]
  },
  {
   "cell_type": "code",
   "execution_count": null,
   "id": "0abf3116",
   "metadata": {},
   "outputs": [],
   "source": [
    "density_df = BaseRelativityTensor(\n",
    "    arr=exp(-R**2),\n",
    "    syms=(R,Z,phi), config='', parent_metric=m_obj); density_df.arr\n",
    "\n",
    "sqrt_g_df = BaseRelativityTensor(\n",
    "    arr=sqrt(g),\n",
    "    syms=(R,Z,phi), config='', parent_metric=m_obj); sqrt_g_df.arr\n",
    "\n",
    "nabla_density_df = GenericVector(\n",
    "    arr=[exp(-R**2).diff(var) for var in [R,Z,phi]],\n",
    "    syms=(R,Z,phi), config='l', parent_metric=m_obj)\n",
    "nabla_density_df\n",
    "\n",
    "B_comp_list = [f(R,Z,phi) for f in symbols(\"B^1:4\", real=True, cls=Function)]\n",
    "B_df = GenericVector(\n",
    "    arr=B_comp_list,\n",
    "    syms=(R,Z,phi), config='u', parent_metric=m_obj)\n",
    "B_df.tensor()"
   ]
  },
  {
   "cell_type": "code",
   "execution_count": null,
   "id": "6d422862",
   "metadata": {},
   "outputs": [],
   "source": [
    "J_df = GenericVector([0, exp(-R**2), exp(-R**2)], (R,Z,phi), config='u', parent_metric=m_obj)\n",
    "J_df\n",
    "# j_df = j_df.change_config('l')\n",
    "J2_df = GenericVector([0,exp(-R**2),0], (R,Z,phi), config='u', parent_metric=m_obj)"
   ]
  },
  {
   "cell_type": "code",
   "execution_count": null,
   "id": "f0d59f48",
   "metadata": {},
   "outputs": [],
   "source": [
    "J_df == J2_df\n",
    "J_df.tensor() == j2_df.tensor()"
   ]
  },
  {
   "cell_type": "code",
   "execution_count": null,
   "id": "76911548",
   "metadata": {},
   "outputs": [],
   "source": [
    "from einsteinpy.symbolic.tensor import tensor_product\n",
    "tensor_product(density_df, J_df)"
   ]
  },
  {
   "cell_type": "code",
   "execution_count": null,
   "id": "c7cde3c0",
   "metadata": {},
   "outputs": [],
   "source": [
    "def tensor_cross(tensor1, tensor2, i=None, j=None):\n",
    "    from einsteinpy.symbolic.tensor import tensor_product as prod\n",
    "    middle_tensor = \\\n",
    "        prod( \n",
    "            prod(\n",
    "                prod(levi_civita, sqrt_g_df), \n",
    "                tensor1, i=0,j=0\n",
    "                ), \n",
    "            tensor2, i=0,j=0 \n",
    "            )\n",
    "#     middle_tensor.change_config('llluu')\n",
    "    return middle_tensor"
   ]
  },
  {
   "cell_type": "code",
   "execution_count": null,
   "id": "cd553182",
   "metadata": {},
   "outputs": [],
   "source": []
  },
  {
   "cell_type": "code",
   "execution_count": null,
   "id": "88102cd9",
   "metadata": {},
   "outputs": [],
   "source": [
    "# nabla_density == j x B\n",
    "nabla_density_df.tensor(), nabla_density_df.config\n",
    "tensor_cross(J_df, B_df).tensor() # j x B\n",
    "tensor_cross(J_df, B_df).config"
   ]
  },
  {
   "cell_type": "code",
   "execution_count": null,
   "id": "dea29bb4",
   "metadata": {},
   "outputs": [],
   "source": [
    "ideal_MHD_eq = Eq(\n",
    "    nabla_density_df.tensor(), \n",
    "    tensor_cross(J_df, B_df).tensor())"
   ]
  },
  {
   "cell_type": "code",
   "execution_count": null,
   "id": "efcce6de",
   "metadata": {},
   "outputs": [],
   "source": [
    "def divide_Array_Eq(eq):\n",
    "    from sympy import Eq\n",
    "    assert(eq.lhs.shape == eq.rhs.shape)\n",
    "    eq_shape = eq.lhs.shape\n",
    "    arr_order = len(eq_shape) \n",
    "    if arr_order > 1: # Not yet tested for high order tensor\n",
    "        eq_list = []\n",
    "        for i in range(eq_shape[0]):\n",
    "            eq_list.append(\n",
    "                divide_Array_Eq(Eq(eq.lhs[i], eq.rhs[i]))\n",
    "            )\n",
    "        return eq_list\n",
    "    elif arr_order == 1:\n",
    "        return [Eq(eq.lhs[i], eq.rhs[i]) for i in range(eq_shape[0])]\n",
    "    else:# arr_order == 0\n",
    "        return eq"
   ]
  },
  {
   "cell_type": "code",
   "execution_count": null,
   "id": "ec8c2f90",
   "metadata": {},
   "outputs": [],
   "source": [
    "from sympy import solve, nonlinsolve\n",
    "B_sol = solve(\n",
    "    divide_Array_Eq(ideal_MHD_eq), \n",
    "    B_df.tensor().tolist())\n",
    "B_sol"
   ]
  },
  {
   "cell_type": "code",
   "execution_count": null,
   "id": "2fb9e625",
   "metadata": {},
   "outputs": [],
   "source": [
    "B_comp_list\n",
    "B_comp_N_list = B_comp_list\n",
    "for i in range(len(B_comp_N_list)):\n",
    "    B_comp_N_list[i] = B_comp_N_list[i].subs(B_sol)\n",
    "    B_comp_N_list[i] = B_comp_N_list[i].subs({B_comp_list[1]: 4, B_comp_list[2]: 6})\n",
    "B_comp_N_list\n",
    "\n",
    "\n",
    "\n",
    "B_N_df = GenericVector(\n",
    "    arr=B_comp_N_list,\n",
    "    syms=(R,Z,phi), config='u', parent_metric=m_obj)\n",
    "B_N_df.tensor()"
   ]
  },
  {
   "cell_type": "code",
   "execution_count": null,
   "id": "136088e0",
   "metadata": {},
   "outputs": [],
   "source": [
    "from scipy.integrate import ode as scipy_ode\n",
    "import ray; ray.init()"
   ]
  },
  {
   "cell_type": "code",
   "execution_count": null,
   "id": "24549291",
   "metadata": {},
   "outputs": [],
   "source": [
    "\n",
    "\n",
    "\n"
   ]
  },
  {
   "cell_type": "code",
   "execution_count": null,
   "id": "7260edaa",
   "metadata": {},
   "outputs": [],
   "source": [
    "from scipy.integrate import ode as _scipy_ode\n",
    "\n",
    "# @ray.remote\n",
    "class FieldTracer(_scipy_ode): # FieldTracer is a kind of ode integrator. \n",
    "    def __init__(self, vec_field):\n",
    "        from sympy.utilities.lambdify import lambdify\n",
    "        assert(vec_field.config == 'u')\n",
    "        A__1, A__2, A__3 = vec_field.tensor().tolist()\n",
    "        A__1 = lambdify(vec_field.syms, A__1)\n",
    "        A__2 = lambdify(vec_field.syms, A__2)\n",
    "        A__3 = lambdify(vec_field.syms, A__3)\n",
    "        def dfdt(t, x):\n",
    "            du1 = A__1(*x)\n",
    "            du2 = A__2(*x)\n",
    "            du3 = A__3(*x)\n",
    "            return [du1, du2, du3]\n",
    "        _scipy_ode.__init__(self, dfdt)\n",
    "        \n",
    "    def integrate_until(self, t1, dt):\n",
    "        import numpy as np\n",
    "        num_of_t = int(t1 / dt); num_of_t\n",
    "        u_arr = np.empty((num_of_t, 3)); u_arr[0, :] = self._y\n",
    "        t_arr = np.arange(num_of_t) * dt\n",
    "        i = 0\n",
    "        while self.successful() and i < num_of_t-1:\n",
    "            i += 1\n",
    "            u_arr[i, :] = self.integrate(self.t+dt)\n",
    "        return u_arr, t_arr\n",
    "    \n",
    "    def set_f_params(self, *args, **kwargs):\n",
    "        raise DeprecationWarning(\"The set_f_params method has been removed from the FieldTracer class.\")\n",
    "    \n",
    "    def set_jac_params(self, *args, **kwargs):\n",
    "        raise DeprecationWarning(\"The set_jac_params method has been removed from the FieldTracer class.\")\n",
    "    \n",
    "# tracers = [FieldTracer.remote(B_N_df)for i in range(16)]\n",
    "t = FieldTracer(B_N_df).set_integrator('vode', method='bdf')\n",
    "# [t.set_integrator.remote('vode', method='bdf') for t in tracers]\n",
    "\n",
    "u0, t0 = (10.0, 0.0, 0.0), 0.0\n",
    "t.set_initial_value(u0, t0)\n",
    "# [t.set_initial_value.remote(u0, t0) for t in tracers]\n",
    "RZphi_arr, t_arr = t.integrate_until(10, 0.05)\n",
    "# ray.get([t.integrate_until.remote(10, 0.05) for t in tracers])\n",
    "\n",
    "\n",
    "\n"
   ]
  },
  {
   "cell_type": "code",
   "execution_count": null,
   "id": "5df77d62",
   "metadata": {},
   "outputs": [],
   "source": [
    "from sympy.utilities.lambdify import lambdify\n",
    "import numpy as np\n",
    "B__1, B__2, B__3 = B_N_df.tensor().tolist()\n",
    "# B__1_arr = lambdify(B_N_df.syms, B__1, modules='numpy')(RZphi_arr[:, 0], RZphi_arr[:, 1], RZphi_arr[:, 2])\n",
    "# B__2_arr = lambdify(B_N_df.syms, B__2, modules='numpy')(RZphi_arr[:, 0], RZphi_arr[:, 1], RZphi_arr[:, 2])\n",
    "# B__3_arr = lambdify(B_N_df.syms, B__3, modules='numpy')(RZphi_arr[:, 0], RZphi_arr[:, 1], RZphi_arr[:, 2])\n",
    "B__1_arr = np.zeros(len(RZphi_arr[:,0]))\n",
    "B__2_arr = np.ones(len(RZphi_arr[:,0])) * 4\n",
    "B__3_arr = np.ones(len(RZphi_arr[:,0])) * 6\n"
   ]
  },
  {
   "cell_type": "code",
   "execution_count": null,
   "id": "0189786b",
   "metadata": {},
   "outputs": [],
   "source": [
    "r_i_arr = [0 for i in range(3)]\n",
    "for i in range(3):\n",
    "    r_i_arr[i] = lambdify(B_N_df.syms, r_i[i], modules='numpy')(\n",
    "        RZphi_arr[:, 0], RZphi_arr[:, 1], RZphi_arr[:, 2])\n",
    "    r_i_arr[i][2] = np.zeros_like(r_i_arr[i][1])\n",
    "\n",
    "\n",
    "B_arr = B__1_arr[:, None] * np.stack(r_i_arr[0], axis=-1) + \\\n",
    "        B__2_arr[:, None] * np.stack(r_i_arr[1], axis=-1) + \\\n",
    "        B__3_arr[:, None] * np.stack(r_i_arr[2], axis=-1)\n"
   ]
  },
  {
   "cell_type": "code",
   "execution_count": null,
   "id": "68207173",
   "metadata": {},
   "outputs": [],
   "source": [
    "import plotly.graph_objects as go\n",
    "import numpy as np\n",
    "\n",
    "fig = go.Figure(data=go.Cone(\n",
    "    x=RZphi_arr[:, 0] * np.cos(RZphi_arr[:, 2]), \n",
    "    y=RZphi_arr[:, 0] * np.sin(RZphi_arr[:, 2]), \n",
    "    z=RZphi_arr[:, 1],\n",
    "    u=B_arr[:, 0],\n",
    "    v=B_arr[:, 1],\n",
    "    w=B_arr[:, 2],\n",
    "    colorscale='Blues',\n",
    "    sizemode=\"absolute\"\n",
    "#     marker=dict(\n",
    "#         size=4,\n",
    "#         color=p_arr,\n",
    "#         colorscale='Viridis',\n",
    "#     ),\n",
    "#     line=dict(\n",
    "#         color=p_arr,\n",
    "#         width=2\n",
    "#     )\n",
    "))\n",
    "\n",
    "fig.update_layout(\n",
    "    scene=dict(\n",
    "        aspectratio = dict( x=1, y=1, z=1.0 ),\n",
    "        aspectmode = 'data'))\n",
    "# fig.show()\n"
   ]
  },
  {
   "cell_type": "code",
   "execution_count": null,
   "id": "03ad635c",
   "metadata": {},
   "outputs": [],
   "source": []
  },
  {
   "cell_type": "code",
   "execution_count": null,
   "id": "d30c3963",
   "metadata": {},
   "outputs": [],
   "source": []
  }
 ],
 "metadata": {
  "kernelspec": {
   "display_name": "Python 3 (ipykernel)",
   "language": "python",
   "name": "python3"
  },
  "language_info": {
   "codemirror_mode": {
    "name": "ipython",
    "version": 3
   },
   "file_extension": ".py",
   "mimetype": "text/x-python",
   "name": "python",
   "nbconvert_exporter": "python",
   "pygments_lexer": "ipython3",
   "version": "3.8.10"
  }
 },
 "nbformat": 4,
 "nbformat_minor": 5
}
