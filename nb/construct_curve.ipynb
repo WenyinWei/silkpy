{
 "cells": [
  {
   "cell_type": "code",
   "execution_count": 1,
   "id": "080c95d3",
   "metadata": {},
   "outputs": [],
   "source": [
    "from sympy import init_printing; init_printing();\n",
    "from IPython.core.interactiveshell import InteractiveShell\n",
    "InteractiveShell.ast_node_interactivity = \"all\""
   ]
  },
  {
   "cell_type": "code",
   "execution_count": 2,
   "id": "f7fec7d1",
   "metadata": {},
   "outputs": [],
   "source": [
    "from sympy import symbols, cos, sin, Array\n",
    "from silkpy.geometry_map import GeometryMap\n",
    "from silkpy.curve import ParametricCurve\n",
    "\n",
    "a, b = symbols(\"a, b\", positive=True); t = symbols(\"t\", real=True)\n",
    "line_on_cylind = ParametricCurve([a*cos(t), a*sin(t), b*t], t)"
   ]
  },
  {
   "cell_type": "code",
   "execution_count": 3,
   "id": "dc129b29",
   "metadata": {},
   "outputs": [
    {
     "name": "stderr",
     "output_type": "stream",
     "text": [
      "/home/wenyin/pyvenv/vsym/lib/python3.7/site-packages/IPython/lib/latextools.py:126: MatplotlibDeprecationWarning: \n",
      "The to_png function was deprecated in Matplotlib 3.4 and will be removed two minor releases later. Use mathtext.math_to_image instead.\n",
      "  mt.to_png(f, s, fontsize=12, dpi=dpi, color=color)\n",
      "/home/wenyin/pyvenv/vsym/lib/python3.7/site-packages/IPython/lib/latextools.py:126: MatplotlibDeprecationWarning: \n",
      "The to_rgba function was deprecated in Matplotlib 3.4 and will be removed two minor releases later. Use mathtext.math_to_image instead.\n",
      "  mt.to_png(f, s, fontsize=12, dpi=dpi, color=color)\n",
      "/home/wenyin/pyvenv/vsym/lib/python3.7/site-packages/IPython/lib/latextools.py:126: MatplotlibDeprecationWarning: \n",
      "The to_mask function was deprecated in Matplotlib 3.4 and will be removed two minor releases later. Use mathtext.math_to_image instead.\n",
      "  mt.to_png(f, s, fontsize=12, dpi=dpi, color=color)\n",
      "/home/wenyin/pyvenv/vsym/lib/python3.7/site-packages/IPython/lib/latextools.py:126: MatplotlibDeprecationWarning: \n",
      "The MathtextBackendBitmap class was deprecated in Matplotlib 3.4 and will be removed two minor releases later. Use mathtext.math_to_image instead.\n",
      "  mt.to_png(f, s, fontsize=12, dpi=dpi, color=color)\n"
     ]
    },
    {
     "data": {
      "text/latex": [
       "$\\displaystyle \\left( \\left[\\begin{matrix}- \\frac{a \\sin{\\left(t \\right)}}{\\sqrt{a^{2} + b^{2}}} & \\frac{a \\cos{\\left(t \\right)}}{\\sqrt{a^{2} + b^{2}}} & \\frac{b}{\\sqrt{a^{2} + b^{2}}}\\end{matrix}\\right], \\  \\left[\\begin{matrix}- \\cos{\\left(t \\right)} & - \\sin{\\left(t \\right)} & 0\\end{matrix}\\right], \\  \\left[\\begin{matrix}\\frac{b \\sin{\\left(t \\right)}}{\\sqrt{a^{2} + b^{2}}} & - \\frac{b \\cos{\\left(t \\right)}}{\\sqrt{a^{2} + b^{2}}} & \\frac{a}{\\sqrt{a^{2} + b^{2}}}\\end{matrix}\\right]\\right)$"
      ],
      "text/plain": [
       "⎛⎡ -a⋅sin(t)      a⋅cos(t)         b      ⎤                         ⎡  b⋅sin(t\n",
       "⎜⎢────────────  ────────────  ────────────⎥                         ⎢─────────\n",
       "⎜⎢   _________     _________     _________⎥, [-cos(t)  -sin(t)  0], ⎢   ______\n",
       "⎜⎢  ╱  2    2     ╱  2    2     ╱  2    2 ⎥                         ⎢  ╱  2   \n",
       "⎝⎣╲╱  a  + b    ╲╱  a  + b    ╲╱  a  + b  ⎦                         ⎣╲╱  a  + \n",
       "\n",
       ")     -b⋅cos(t)         a      ⎤⎞\n",
       "───  ────────────  ────────────⎥⎟\n",
       "___     _________     _________⎥⎟\n",
       " 2     ╱  2    2     ╱  2    2 ⎥⎟\n",
       "b    ╲╱  a  + b    ╲╱  a  + b  ⎦⎠"
      ]
     },
     "execution_count": 3,
     "metadata": {},
     "output_type": "execute_result"
    },
    {
     "data": {
      "text/latex": [
       "$\\displaystyle \\left[\\left[\\begin{matrix}- a \\sin{\\left(t \\right)} & a \\cos{\\left(t \\right)} & b\\end{matrix}\\right]\\right]$"
      ],
      "text/plain": [
       "[[-a⋅sin(t)  a⋅cos(t)  b]]"
      ]
     },
     "execution_count": 3,
     "metadata": {},
     "output_type": "execute_result"
    }
   ],
   "source": [
    "line_on_cylind.T_N_B()\n",
    "line_on_cylind.jacobian()"
   ]
  },
  {
   "cell_type": "code",
   "execution_count": 4,
   "id": "695f14bf",
   "metadata": {},
   "outputs": [],
   "source": [
    "from silkpy.curve.transform import curve_normalization\n",
    "line_on_cylind_normalized = curve_normalization(line_on_cylind)"
   ]
  },
  {
   "cell_type": "code",
   "execution_count": 5,
   "id": "3f1c0adb",
   "metadata": {},
   "outputs": [
    {
     "data": {
      "text/latex": [
       "$\\displaystyle \\left( \\left[\\begin{matrix}- \\frac{a \\sin{\\left(\\frac{s}{\\sqrt{a^{2} + b^{2}}} \\right)}}{\\sqrt{a^{2} + b^{2}}} & \\frac{a \\cos{\\left(\\frac{s}{\\sqrt{a^{2} + b^{2}}} \\right)}}{\\sqrt{a^{2} + b^{2}}} & \\frac{b}{\\sqrt{a^{2} + b^{2}}}\\end{matrix}\\right], \\  \\left[\\begin{matrix}- \\cos{\\left(\\frac{s}{\\sqrt{a^{2} + b^{2}}} \\right)} & - \\sin{\\left(\\frac{s}{\\sqrt{a^{2} + b^{2}}} \\right)} & 0\\end{matrix}\\right], \\  \\left[\\begin{matrix}\\frac{b \\sin{\\left(\\frac{s}{\\sqrt{a^{2} + b^{2}}} \\right)}}{\\sqrt{a^{2} + b^{2}}} & - \\frac{b \\cos{\\left(\\frac{s}{\\sqrt{a^{2} + b^{2}}} \\right)}}{\\sqrt{a^{2} + b^{2}}} & \\frac{a}{\\sqrt{a^{2} + b^{2}}}\\end{matrix}\\right]\\right)$"
      ],
      "text/plain": [
       "⎛⎡      ⎛     s      ⎞        ⎛     s      ⎞              ⎤                   \n",
       "⎜⎢-a⋅sin⎜────────────⎟   a⋅cos⎜────────────⎟              ⎥                   \n",
       "⎜⎢      ⎜   _________⎟        ⎜   _________⎟              ⎥  ⎡    ⎛     s     \n",
       "⎜⎢      ⎜  ╱  2    2 ⎟        ⎜  ╱  2    2 ⎟              ⎥  ⎢-cos⎜───────────\n",
       "⎜⎢      ⎝╲╱  a  + b  ⎠        ⎝╲╱  a  + b  ⎠       b      ⎥, ⎢    ⎜   ________\n",
       "⎜⎢─────────────────────  ───────────────────  ────────────⎥  ⎢    ⎜  ╱  2    2\n",
       "⎜⎢        _________             _________        _________⎥  ⎣    ⎝╲╱  a  + b \n",
       "⎜⎢       ╱  2    2             ╱  2    2        ╱  2    2 ⎥                   \n",
       "⎝⎣     ╲╱  a  + b            ╲╱  a  + b       ╲╱  a  + b  ⎦                   \n",
       "\n",
       "                            ⎡     ⎛     s      ⎞        ⎛     s      ⎞        \n",
       "                            ⎢b⋅sin⎜────────────⎟  -b⋅cos⎜────────────⎟        \n",
       " ⎞      ⎛     s      ⎞   ⎤  ⎢     ⎜   _________⎟        ⎜   _________⎟        \n",
       "─⎟  -sin⎜────────────⎟  0⎥  ⎢     ⎜  ╱  2    2 ⎟        ⎜  ╱  2    2 ⎟        \n",
       "_⎟      ⎜   _________⎟   ⎥, ⎢     ⎝╲╱  a  + b  ⎠        ⎝╲╱  a  + b  ⎠        \n",
       " ⎟      ⎜  ╱  2    2 ⎟   ⎥  ⎢───────────────────  ─────────────────────  ─────\n",
       " ⎠      ⎝╲╱  a  + b  ⎠   ⎦  ⎢       _________             _________         __\n",
       "                            ⎢      ╱  2    2             ╱  2    2         ╱  \n",
       "                            ⎣    ╲╱  a  + b            ╲╱  a  + b        ╲╱  a\n",
       "\n",
       "       ⎤⎞\n",
       "       ⎥⎟\n",
       "       ⎥⎟\n",
       "       ⎥⎟\n",
       "a      ⎥⎟\n",
       "───────⎥⎟\n",
       "_______⎥⎟\n",
       "2    2 ⎥⎟\n",
       "  + b  ⎦⎠"
      ]
     },
     "execution_count": 5,
     "metadata": {},
     "output_type": "execute_result"
    }
   ],
   "source": [
    "line_on_cylind_normalized.T_N_B()"
   ]
  },
  {
   "cell_type": "code",
   "execution_count": null,
   "id": "32d67ab3",
   "metadata": {},
   "outputs": [],
   "source": []
  },
  {
   "cell_type": "code",
   "execution_count": null,
   "id": "b06452a9",
   "metadata": {},
   "outputs": [],
   "source": []
  }
 ],
 "metadata": {
  "kernelspec": {
   "display_name": "Python 3",
   "language": "python",
   "name": "python3"
  },
  "language_info": {
   "codemirror_mode": {
    "name": "ipython",
    "version": 3
   },
   "file_extension": ".py",
   "mimetype": "text/x-python",
   "name": "python",
   "nbconvert_exporter": "python",
   "pygments_lexer": "ipython3",
   "version": "3.7.5"
  }
 },
 "nbformat": 4,
 "nbformat_minor": 5
}
