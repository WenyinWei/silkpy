{
 "cells": [
  {
   "cell_type": "code",
   "execution_count": 10,
   "id": "ae3a038c",
   "metadata": {},
   "outputs": [],
   "source": [
    "from IPython.core.interactiveshell import InteractiveShell\n",
    "InteractiveShell.ast_node_interactivity = \"all\""
   ]
  },
  {
   "cell_type": "code",
   "execution_count": 11,
   "id": "f7fec7d1",
   "metadata": {},
   "outputs": [
    {
     "data": {
      "text/latex": [
       "$\\displaystyle \\left[\\begin{matrix}- a \\sin{\\left(t \\right)} & a \\cos{\\left(t \\right)} & b\\end{matrix}\\right]$"
      ],
      "text/plain": [
       "[-a*sin(t), a*cos(t), b]"
      ]
     },
     "execution_count": 11,
     "metadata": {},
     "output_type": "execute_result"
    },
    {
     "data": {
      "text/latex": [
       "$\\displaystyle \\left[\\begin{matrix}\\cos{\\left(t \\right)} & \\sin{\\left(t \\right)} & 0\\end{matrix}\\right]$"
      ],
      "text/plain": [
       "[cos(t), sin(t), 0]"
      ]
     },
     "execution_count": 11,
     "metadata": {},
     "output_type": "execute_result"
    }
   ],
   "source": [
    "from sympy import symbols, cos, sin, Array\n",
    "from silkpy.geometry_map import GeometryMap\n",
    "from silkpy.curve import ParametricCurve\n",
    "\n",
    "a, b = symbols(\"a, b\", positive=True); t = symbols(\"t\", real=True)\n",
    "arr = Array([a*cos(t), a*sin(t), b*t]).diff(Array([t, a]))\n",
    "for i in range(2): arr[i]\n",
    "line_on_cylind = ParametricCurve([a*cos(t), a*sin(t), b*t], t)\n"
   ]
  },
  {
   "cell_type": "code",
   "execution_count": 12,
   "id": "69904ea0",
   "metadata": {},
   "outputs": [
    {
     "data": {
      "text/latex": [
       "$\\displaystyle \\left[\\begin{matrix}- \\frac{a \\sin{\\left(t \\right)}}{\\sqrt{a^{2} + b^{2}}} & \\frac{a \\cos{\\left(t \\right)}}{\\sqrt{a^{2} + b^{2}}} & \\frac{b}{\\sqrt{a^{2} + b^{2}}}\\end{matrix}\\right]$"
      ],
      "text/plain": [
       "[-a*sin(t)/sqrt(a**2 + b**2), a*cos(t)/sqrt(a**2 + b**2), b/sqrt(a**2 + b**2)]"
      ]
     },
     "execution_count": 12,
     "metadata": {},
     "output_type": "execute_result"
    },
    {
     "data": {
      "text/latex": [
       "$\\displaystyle \\left[\\begin{matrix}- \\cos{\\left(t \\right)} & - \\sin{\\left(t \\right)} & 0\\end{matrix}\\right]$"
      ],
      "text/plain": [
       "[-cos(t), -sin(t), 0]"
      ]
     },
     "execution_count": 12,
     "metadata": {},
     "output_type": "execute_result"
    },
    {
     "data": {
      "text/latex": [
       "$\\displaystyle \\left[\\begin{matrix}\\frac{b \\sin{\\left(t \\right)}}{\\sqrt{a^{2} + b^{2}}} & - \\frac{b \\cos{\\left(t \\right)}}{\\sqrt{a^{2} + b^{2}}} & \\frac{a}{\\sqrt{a^{2} + b^{2}}}\\end{matrix}\\right]$"
      ],
      "text/plain": [
       "[b*sin(t)/sqrt(a**2 + b**2), -b*cos(t)/sqrt(a**2 + b**2), a/sqrt(a**2 + b**2)]"
      ]
     },
     "execution_count": 12,
     "metadata": {},
     "output_type": "execute_result"
    }
   ],
   "source": [
    "line_on_cylind.unit_tangent_vec()\n",
    "line_on_cylind.unit_normal_vec()\n",
    "line_on_cylind.unit_subnormal_vec()"
   ]
  },
  {
   "cell_type": "code",
   "execution_count": 13,
   "id": "a29cf2d4",
   "metadata": {},
   "outputs": [],
   "source": [
    "from silkpy.curve.transform import curve_normalization\n",
    "line_on_cylind_normalized = curve_normalization(line_on_cylind)"
   ]
  },
  {
   "cell_type": "code",
   "execution_count": 14,
   "id": "55572330",
   "metadata": {},
   "outputs": [
    {
     "data": {
      "text/latex": [
       "$\\displaystyle \\left[\\begin{matrix}- \\frac{a \\sin{\\left(\\frac{s}{\\sqrt{a^{2} + b^{2}}} \\right)}}{\\sqrt{a^{2} + b^{2}}} & \\frac{a \\cos{\\left(\\frac{s}{\\sqrt{a^{2} + b^{2}}} \\right)}}{\\sqrt{a^{2} + b^{2}}} & \\frac{b}{\\sqrt{a^{2} + b^{2}}}\\end{matrix}\\right]$"
      ],
      "text/plain": [
       "[-a*sin(s/sqrt(a**2 + b**2))/sqrt(a**2 + b**2), a*cos(s/sqrt(a**2 + b**2))/sqrt(a**2 + b**2), b/sqrt(a**2 + b**2)]"
      ]
     },
     "execution_count": 14,
     "metadata": {},
     "output_type": "execute_result"
    },
    {
     "data": {
      "text/latex": [
       "$\\displaystyle \\left[\\begin{matrix}- \\cos{\\left(\\frac{s}{\\sqrt{a^{2} + b^{2}}} \\right)} & - \\sin{\\left(\\frac{s}{\\sqrt{a^{2} + b^{2}}} \\right)} & 0\\end{matrix}\\right]$"
      ],
      "text/plain": [
       "[-cos(s/sqrt(a**2 + b**2)), -sin(s/sqrt(a**2 + b**2)), 0]"
      ]
     },
     "execution_count": 14,
     "metadata": {},
     "output_type": "execute_result"
    },
    {
     "data": {
      "text/latex": [
       "$\\displaystyle \\left[\\begin{matrix}\\frac{b \\sin{\\left(\\frac{s}{\\sqrt{a^{2} + b^{2}}} \\right)}}{\\sqrt{a^{2} + b^{2}}} & - \\frac{b \\cos{\\left(\\frac{s}{\\sqrt{a^{2} + b^{2}}} \\right)}}{\\sqrt{a^{2} + b^{2}}} & \\frac{a}{\\sqrt{a^{2} + b^{2}}}\\end{matrix}\\right]$"
      ],
      "text/plain": [
       "[b*sin(s/sqrt(a**2 + b**2))/sqrt(a**2 + b**2), -b*cos(s/sqrt(a**2 + b**2))/sqrt(a**2 + b**2), a/sqrt(a**2 + b**2)]"
      ]
     },
     "execution_count": 14,
     "metadata": {},
     "output_type": "execute_result"
    }
   ],
   "source": [
    "line_on_cylind_normalized.unit_tangent_vec()\n",
    "line_on_cylind_normalized.unit_normal_vec()\n",
    "line_on_cylind_normalized.unit_subnormal_vec()"
   ]
  },
  {
   "cell_type": "code",
   "execution_count": null,
   "id": "907a300f",
   "metadata": {},
   "outputs": [],
   "source": []
  }
 ],
 "metadata": {
  "kernelspec": {
   "display_name": "Python 3",
   "language": "python",
   "name": "python3"
  },
  "language_info": {
   "codemirror_mode": {
    "name": "ipython",
    "version": 3
   },
   "file_extension": ".py",
   "mimetype": "text/x-python",
   "name": "python",
   "nbconvert_exporter": "python",
   "pygments_lexer": "ipython3",
   "version": "3.7.5"
  }
 },
 "nbformat": 4,
 "nbformat_minor": 5
}
