{
 "cells": [
  {
   "cell_type": "code",
   "execution_count": 10,
   "id": "080c95d3",
   "metadata": {},
   "outputs": [],
   "source": [
    "from IPython.core.interactiveshell import InteractiveShell\n",
    "InteractiveShell.ast_node_interactivity = \"all\""
   ]
  },
  {
   "cell_type": "code",
   "execution_count": 18,
   "id": "f7fec7d1",
   "metadata": {},
   "outputs": [],
   "source": [
    "from sympy import symbols, cos, sin, Array\n",
    "from silkpy.geometry_map import GeometryMap\n",
    "from silkpy.curve import ParametricCurve\n",
    "\n",
    "a, b = symbols(\"a, b\", positive=True); t = symbols(\"t\", real=True)\n",
    "line_on_cylind = ParametricCurve([a*cos(t), a*sin(t), b*t], t)"
   ]
  },
  {
   "cell_type": "code",
   "execution_count": 17,
   "id": "dc129b29",
   "metadata": {},
   "outputs": [
    {
     "data": {
      "text/latex": [
       "$\\displaystyle \\left[\\begin{matrix}- \\frac{a \\sin{\\left(t \\right)}}{\\sqrt{a^{2} + b^{2}}} & \\frac{a \\cos{\\left(t \\right)}}{\\sqrt{a^{2} + b^{2}}} & \\frac{b}{\\sqrt{a^{2} + b^{2}}}\\end{matrix}\\right]$"
      ],
      "text/plain": [
       "[-a*sin(t)/sqrt(a**2 + b**2), a*cos(t)/sqrt(a**2 + b**2), b/sqrt(a**2 + b**2)]"
      ]
     },
     "execution_count": 17,
     "metadata": {},
     "output_type": "execute_result"
    },
    {
     "data": {
      "text/latex": [
       "$\\displaystyle \\left[\\begin{matrix}- \\cos{\\left(t \\right)} & - \\sin{\\left(t \\right)} & 0\\end{matrix}\\right]$"
      ],
      "text/plain": [
       "[-cos(t), -sin(t), 0]"
      ]
     },
     "execution_count": 17,
     "metadata": {},
     "output_type": "execute_result"
    },
    {
     "data": {
      "text/latex": [
       "$\\displaystyle \\left[\\begin{matrix}\\frac{b \\sin{\\left(t \\right)}}{\\sqrt{a^{2} + b^{2}}} & - \\frac{b \\cos{\\left(t \\right)}}{\\sqrt{a^{2} + b^{2}}} & \\frac{a}{\\sqrt{a^{2} + b^{2}}}\\end{matrix}\\right]$"
      ],
      "text/plain": [
       "[b*sin(t)/sqrt(a**2 + b**2), -b*cos(t)/sqrt(a**2 + b**2), a/sqrt(a**2 + b**2)]"
      ]
     },
     "execution_count": 17,
     "metadata": {},
     "output_type": "execute_result"
    },
    {
     "data": {
      "text/latex": [
       "$\\displaystyle \\left[\\left[\\begin{matrix}- a \\sin{\\left(t \\right)} & a \\cos{\\left(t \\right)} & b\\end{matrix}\\right]\\right]$"
      ],
      "text/plain": [
       "[[-a*sin(t), a*cos(t), b]]"
      ]
     },
     "execution_count": 17,
     "metadata": {},
     "output_type": "execute_result"
    }
   ],
   "source": [
    "line_on_cylind.unit_tangent_vec()\n",
    "line_on_cylind.unit_normal_vec()\n",
    "line_on_cylind.unit_subnormal_vec()\n",
    "line_on_cylind.jacobian()"
   ]
  },
  {
   "cell_type": "code",
   "execution_count": 13,
   "id": "695f14bf",
   "metadata": {},
   "outputs": [],
   "source": [
    "from silkpy.curve.transform import curve_normalization\n",
    "line_on_cylind_normalized = curve_normalization(line_on_cylind)"
   ]
  },
  {
   "cell_type": "code",
   "execution_count": 14,
   "id": "3f1c0adb",
   "metadata": {},
   "outputs": [
    {
     "data": {
      "text/latex": [
       "$\\displaystyle \\left[\\begin{matrix}- \\frac{a \\sin{\\left(\\frac{s}{\\sqrt{a^{2} + b^{2}}} \\right)}}{\\sqrt{a^{2} + b^{2}}} & \\frac{a \\cos{\\left(\\frac{s}{\\sqrt{a^{2} + b^{2}}} \\right)}}{\\sqrt{a^{2} + b^{2}}} & \\frac{b}{\\sqrt{a^{2} + b^{2}}}\\end{matrix}\\right]$"
      ],
      "text/plain": [
       "[-a*sin(s/sqrt(a**2 + b**2))/sqrt(a**2 + b**2), a*cos(s/sqrt(a**2 + b**2))/sqrt(a**2 + b**2), b/sqrt(a**2 + b**2)]"
      ]
     },
     "execution_count": 14,
     "metadata": {},
     "output_type": "execute_result"
    },
    {
     "data": {
      "text/latex": [
       "$\\displaystyle \\left[\\begin{matrix}- \\cos{\\left(\\frac{s}{\\sqrt{a^{2} + b^{2}}} \\right)} & - \\sin{\\left(\\frac{s}{\\sqrt{a^{2} + b^{2}}} \\right)} & 0\\end{matrix}\\right]$"
      ],
      "text/plain": [
       "[-cos(s/sqrt(a**2 + b**2)), -sin(s/sqrt(a**2 + b**2)), 0]"
      ]
     },
     "execution_count": 14,
     "metadata": {},
     "output_type": "execute_result"
    },
    {
     "data": {
      "text/latex": [
       "$\\displaystyle \\left[\\begin{matrix}\\frac{b \\sin{\\left(\\frac{s}{\\sqrt{a^{2} + b^{2}}} \\right)}}{\\sqrt{a^{2} + b^{2}}} & - \\frac{b \\cos{\\left(\\frac{s}{\\sqrt{a^{2} + b^{2}}} \\right)}}{\\sqrt{a^{2} + b^{2}}} & \\frac{a}{\\sqrt{a^{2} + b^{2}}}\\end{matrix}\\right]$"
      ],
      "text/plain": [
       "[b*sin(s/sqrt(a**2 + b**2))/sqrt(a**2 + b**2), -b*cos(s/sqrt(a**2 + b**2))/sqrt(a**2 + b**2), a/sqrt(a**2 + b**2)]"
      ]
     },
     "execution_count": 14,
     "metadata": {},
     "output_type": "execute_result"
    }
   ],
   "source": [
    "line_on_cylind_normalized.unit_tangent_vec()\n",
    "line_on_cylind_normalized.unit_normal_vec()\n",
    "line_on_cylind_normalized.unit_subnormal_vec()"
   ]
  },
  {
   "cell_type": "code",
   "execution_count": null,
   "id": "32d67ab3",
   "metadata": {},
   "outputs": [],
   "source": []
  }
 ],
 "metadata": {
  "kernelspec": {
   "display_name": "Python 3",
   "language": "python",
   "name": "python3"
  },
  "language_info": {
   "codemirror_mode": {
    "name": "ipython",
    "version": 3
   },
   "file_extension": ".py",
   "mimetype": "text/x-python",
   "name": "python",
   "nbconvert_exporter": "python",
   "pygments_lexer": "ipython3",
   "version": "3.7.5"
  }
 },
 "nbformat": 4,
 "nbformat_minor": 5
}
