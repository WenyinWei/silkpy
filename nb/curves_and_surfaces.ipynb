{
 "cells": [
  {
   "cell_type": "code",
   "execution_count": 7,
   "metadata": {},
   "outputs": [],
   "source": []
  },
  {
   "cell_type": "code",
   "execution_count": 10,
   "metadata": {},
   "outputs": [
    {
     "data": {
      "text/latex": [
       "$\\displaystyle r_{1} r_{2} \\sqrt{\\left(\\sin{\\left(\\phi_{1} \\right)} \\sin{\\left(\\theta_{1} \\right)} \\cos{\\left(\\theta_{2} \\right)} - \\sin{\\left(\\phi_{2} \\right)} \\sin{\\left(\\theta_{2} \\right)} \\cos{\\left(\\theta_{1} \\right)}\\right)^{2} + \\left(\\sin{\\left(\\theta_{1} \\right)} \\cos{\\left(\\phi_{1} \\right)} \\cos{\\left(\\theta_{2} \\right)} - \\sin{\\left(\\theta_{2} \\right)} \\cos{\\left(\\phi_{2} \\right)} \\cos{\\left(\\theta_{1} \\right)}\\right)^{2} + \\sin^{2}{\\left(\\theta_{1} \\right)} \\sin^{2}{\\left(\\theta_{2} \\right)} \\sin^{2}{\\left(\\phi_{1} - \\phi_{2} \\right)}}$"
      ],
      "text/plain": [
       "r_1*r_2*sqrt((sin(phi_1)*sin(theta_1)*cos(theta_2) - sin(phi_2)*sin(theta_2)*cos(theta_1))**2 + (sin(theta_1)*cos(phi_1)*cos(theta_2) - sin(theta_2)*cos(phi_2)*cos(theta_1))**2 + sin(theta_1)**2*sin(theta_2)**2*sin(phi_1 - phi_2)**2)"
      ]
     },
     "execution_count": 10,
     "metadata": {},
     "output_type": "execute_result"
    }
   ],
   "source": []
  },
  {
   "cell_type": "code",
   "execution_count": 6,
   "metadata": {},
   "outputs": [
    {
     "data": {
      "text/latex": [
       "$\\displaystyle - \\operatorname{atan}{\\left(\\frac{\\sqrt{2} \\sqrt{- 2 \\cos{\\left(2 \\theta_{1} - 2 \\theta_{2} \\right)} - 2 \\cos{\\left(2 \\theta_{1} + 2 \\theta_{2} \\right)} + \\cos{\\left(- \\phi_{1} + \\phi_{2} + 2 \\theta_{1} + 2 \\theta_{2} \\right)} - \\cos{\\left(\\phi_{1} - \\phi_{2} - 2 \\theta_{1} + 2 \\theta_{2} \\right)} - \\cos{\\left(\\phi_{1} - \\phi_{2} + 2 \\theta_{1} - 2 \\theta_{2} \\right)} + \\cos{\\left(\\phi_{1} - \\phi_{2} + 2 \\theta_{1} + 2 \\theta_{2} \\right)} + 4}}{4 \\sin{\\left(\\theta_{1} \\right)} \\sin{\\left(\\theta_{2} \\right)} \\sin{\\left(\\phi_{1} - \\phi_{2} \\right)}} \\right)}$"
      ],
      "text/plain": [
       "-atan(sqrt(2)*sqrt(-2*cos(2*theta_1 - 2*theta_2) - 2*cos(2*theta_1 + 2*theta_2) + cos(-phi_1 + phi_2 + 2*theta_1 + 2*theta_2) - cos(phi_1 - phi_2 - 2*theta_1 + 2*theta_2) - cos(phi_1 - phi_2 + 2*theta_1 - 2*theta_2) + cos(phi_1 - phi_2 + 2*theta_1 + 2*theta_2) + 4)/(4*sin(theta_1)*sin(theta_2)*sin(phi_1 - phi_2)))"
      ]
     },
     "execution_count": 6,
     "metadata": {},
     "output_type": "execute_result"
    }
   ],
   "source": []
  },
  {
   "cell_type": "code",
   "execution_count": 7,
   "metadata": {},
   "outputs": [
    {
     "data": {
      "text/latex": [
       "$\\displaystyle \\operatorname{atan_{2}}{\\left(r_{1} r_{2} \\left(- \\sin{\\left(\\theta_{1} \\right)} \\cos{\\left(\\phi_{1} \\right)} \\cos{\\left(\\theta_{2} \\right)} + \\sin{\\left(\\theta_{2} \\right)} \\cos{\\left(\\phi_{2} \\right)} \\cos{\\left(\\theta_{1} \\right)}\\right),r_{1} r_{2} \\left(\\sin{\\left(\\phi_{1} \\right)} \\sin{\\left(\\theta_{1} \\right)} \\cos{\\left(\\theta_{2} \\right)} - \\sin{\\left(\\phi_{2} \\right)} \\sin{\\left(\\theta_{2} \\right)} \\cos{\\left(\\theta_{1} \\right)}\\right) \\right)}$"
      ],
      "text/plain": [
       "atan2(r_1*r_2*(-sin(theta_1)*cos(phi_1)*cos(theta_2) + sin(theta_2)*cos(phi_2)*cos(theta_1)), r_1*r_2*(sin(phi_1)*sin(theta_1)*cos(theta_2) - sin(phi_2)*sin(theta_2)*cos(theta_1)))"
      ]
     },
     "execution_count": 7,
     "metadata": {},
     "output_type": "execute_result"
    }
   ],
   "source": []
  },
  {
   "cell_type": "markdown",
   "metadata": {},
   "source": [
    "### Cylindrical Coordinate\n",
    "\n",
    "$$\\vec{r}(\\rho, \\phi, z) = \\rho\\vec{e}_\\rho(\\phi) + z \\vec{e}_z$$\n",
    "\n",
    "Suppose $(\\rho, \\phi, z)$ has an argument $t$. (they can have multiple args, as the following deduction also holds.)\n",
    "\n",
    "i.e. \n",
    "\n",
    "$$\\rho = \\rho(t)$$\n",
    "$$\\phi = \\phi(t)$$\n",
    "$$z = z(t)$$\n",
    "\n",
    "$$\\frac{\\mathrm{d}\\vec{r}(\\rho, \\phi, z)}{\\mathrm{d}t} = \\frac{\\mathrm{d}\\rho}{\\mathrm{d}t}\\vec{e}_\\rho(\\phi) + \\rho\\frac{\\mathrm{d}\\vec{e}_\\rho}{\\mathrm{d}t} + \\frac{\\mathrm{d}z}{\\mathrm{d}t} \\vec{e}_z$$\n",
    "$$\\frac{\\mathrm{d}^n\\vec{r}(\\rho, \\phi, z)}{\\mathrm{d}t^n} = \\sum_{k=0}^n C_n^k \\frac{\\mathrm{d}^k\\rho}{\\mathrm{d}t^k} \\frac{\\mathrm{d}^{n-k}}{\\mathrm{d}t^{n-k}} \\vec{e}_\\rho(\\phi) + \\frac{\\mathrm{d}^kz}{\\mathrm{d}t^k} \\vec{e}_z$$\n",
    "$$\\frac{\\mathrm{d}^n\\vec{r}(\\rho, \\phi, z)}{\\mathrm{d}t^n} = \\sum_{k=0}^n C_n^k \\frac{\\mathrm{d}^k\\rho}{\\mathrm{d}t^k} \\frac{\\mathrm{d}^{n-k}}{\\mathrm{d}\\phi^{n-k}} \\vec{e}_\\rho(\\phi) \\frac{\\mathrm{d}^{n-k}\\phi}{\\mathrm{d}t^{n-k}} + \\frac{\\mathrm{d}^kz}{\\mathrm{d}t^k} \\vec{e}_z$$\n",
    "$$\\frac{\\mathrm{d}^n\\vec{r}(\\rho, \\phi, z)}{\\mathrm{d}t^n} = \\sum_{k=0}^n C_n^k \\frac{\\mathrm{d}^k\\rho}{\\mathrm{d}t^k} \\frac{\\mathrm{d}^{n-k}\\phi}{\\mathrm{d}t^{n-k}} \\frac{\\mathrm{d}^{n-k \\pmod{4}}}{\\mathrm{d}\\phi^{n-k \\pmod{4}}} \\vec{e}_\\rho(\\phi) + \\frac{\\mathrm{d}^kz}{\\mathrm{d}t^k} \\vec{e}_z$$\n",
    "\n",
    "Note that $\\mathrm{d}\\vec{e}_\\rho(\\phi)/ \\mathrm{d}\\phi = \\vec{e}_\\phi(\\phi)$, $\\mathrm{d}\\vec{e}_\\phi(\\phi)/ \\mathrm{d}\\phi = -\\vec{e}_\\rho(\\phi)$, therefore\n",
    "\n",
    "$$\\frac{\\mathrm{d}\\vec{e}_\\rho(\\phi)}{\\mathrm{d}\\phi} = \\vec{e}_\\phi(\\phi)$$\n",
    "$$\\frac{\\mathrm{d}^2\\vec{e}_\\rho(\\phi)}{\\mathrm{d}\\phi^2} = -\\vec{e}_\\rho(\\phi)$$\n",
    "$$\\frac{\\mathrm{d}^3\\vec{e}_\\rho(\\phi)}{\\mathrm{d}\\phi^3} = -\\vec{e}_\\phi(\\phi)$$\n",
    "$$\\frac{\\mathrm{d}^4\\vec{e}_\\rho(\\phi)}{\\mathrm{d}\\phi^4} = \\vec{e}_\\rho(\\phi)$$"
   ]
  },
  {
   "cell_type": "code",
   "execution_count": null,
   "metadata": {
    "code_folding": []
   },
   "outputs": [],
   "source": []
  },
  {
   "cell_type": "code",
   "execution_count": null,
   "metadata": {
    "code_folding": []
   },
   "outputs": [],
   "source": []
  },
  {
   "cell_type": "markdown",
   "metadata": {},
   "source": [
    "### Metric Tensor\n",
    "\n",
    "First basic form \n",
    "$$g_{ij} = \\vec{r}_i \\cdot \\vec{r}_j$$\n",
    "\n",
    "Second basic form \n",
    "$$\\Omega_{ij} = \\vec{r}_{ij}$$\n",
    "\n",
    "### Christoffel symbol, also named as connection coefficients.\n",
    "\n",
    "$$\\Gamma^k_{ij} = \\frac{1}{2} g^{km}(\\frac{\\partial g_{mj}}{\\partial u^i} + \\frac{\\partial g_{im}}{\\partial u^j} - \\frac{\\partial g_{ij}}{\\partial u^m})$$"
   ]
  },
  {
   "cell_type": "code",
   "execution_count": 5,
   "metadata": {},
   "outputs": [],
   "source": [
    "from sympy.abc import t, u, v\n",
    "from sympy import cos, sin, pi"
   ]
  },
  {
   "cell_type": "code",
   "execution_count": 6,
   "metadata": {},
   "outputs": [
    {
     "data": {
      "text/latex": [
       "$\\displaystyle \\frac{5}{34}$"
      ],
      "text/plain": [
       "5/34"
      ]
     },
     "execution_count": 6,
     "metadata": {},
     "output_type": "execute_result"
    }
   ],
   "source": [
    "c = Curve([5*cos(t),5*sin(t), 3*t], (t, -2*pi, 2*pi))\n",
    "c.curvature().simplify()"
   ]
  },
  {
   "cell_type": "code",
   "execution_count": 104,
   "metadata": {},
   "outputs": [
    {
     "name": "stdout",
     "output_type": "stream",
     "text": [
      "A curve = [5*cos(sqrt(34)*s/34), 5*sin(sqrt(34)*s/34), 3*sqrt(34)*s/34] in XYZ coordinate system, with s in (-2*sqrt(34)*pi, 2*sqrt(34)*pi).\n"
     ]
    },
    {
     "data": {
      "text/latex": [
       "$\\displaystyle \\left[\\begin{matrix}5 \\cos{\\left(\\frac{\\sqrt{34} s}{34} \\right)} & 5 \\sin{\\left(\\frac{\\sqrt{34} s}{34} \\right)} & \\frac{3 \\sqrt{34} s}{34}\\end{matrix}\\right]$"
      ],
      "text/plain": [
       "[5*cos(sqrt(34)*s/34), 5*sin(sqrt(34)*s/34), 3*sqrt(34)*s/34]"
      ]
     },
     "execution_count": 104,
     "metadata": {},
     "output_type": "execute_result"
    }
   ],
   "source": [
    "norm_c = c.param_norm()\n",
    "print(norm_c)\n",
    "norm_c._r"
   ]
  },
  {
   "cell_type": "code",
   "execution_count": 13,
   "metadata": {},
   "outputs": [],
   "source": [
    "from sympy import symbols, oo, sin, cos, pi\n",
    "u, v = symbols('u, v', real=True)\n",
    "R = 5\n",
    "s = Surface([R*cos(u), R*sin(u), v], (u, 0, 2*pi), (v, -oo, oo))"
   ]
  },
  {
   "cell_type": "code",
   "execution_count": null,
   "metadata": {},
   "outputs": [],
   "source": []
  },
  {
   "cell_type": "code",
   "execution_count": null,
   "metadata": {},
   "outputs": [],
   "source": []
  },
  {
   "cell_type": "code",
   "execution_count": null,
   "metadata": {},
   "outputs": [],
   "source": []
  },
  {
   "cell_type": "code",
   "execution_count": null,
   "metadata": {},
   "outputs": [],
   "source": []
  },
  {
   "cell_type": "code",
   "execution_count": null,
   "metadata": {},
   "outputs": [],
   "source": []
  },
  {
   "cell_type": "code",
   "execution_count": null,
   "metadata": {},
   "outputs": [],
   "source": []
  },
  {
   "cell_type": "code",
   "execution_count": null,
   "metadata": {},
   "outputs": [],
   "source": []
  },
  {
   "cell_type": "code",
   "execution_count": null,
   "metadata": {},
   "outputs": [],
   "source": []
  },
  {
   "cell_type": "code",
   "execution_count": null,
   "metadata": {},
   "outputs": [],
   "source": []
  },
  {
   "cell_type": "code",
   "execution_count": 1,
   "metadata": {},
   "outputs": [
    {
     "ename": "NameError",
     "evalue": "name 's' is not defined",
     "output_type": "error",
     "traceback": [
      "\u001b[0;31m---------------------------------------------------------------------------\u001b[0m",
      "\u001b[0;31mNameError\u001b[0m                                 Traceback (most recent call last)",
      "\u001b[0;32m<ipython-input-1-1d1223a9b1b3>\u001b[0m in \u001b[0;36m<module>\u001b[0;34m\u001b[0m\n\u001b[1;32m      4\u001b[0m \u001b[0;32mfrom\u001b[0m \u001b[0msympy\u001b[0m \u001b[0;32mimport\u001b[0m \u001b[0mlambdify\u001b[0m\u001b[0;34m,\u001b[0m \u001b[0mN\u001b[0m\u001b[0;34m\u001b[0m\u001b[0;34m\u001b[0m\u001b[0m\n\u001b[1;32m      5\u001b[0m \u001b[0;34m\u001b[0m\u001b[0m\n\u001b[0;32m----> 6\u001b[0;31m \u001b[0mf_s\u001b[0m \u001b[0;34m=\u001b[0m \u001b[0mlambdify\u001b[0m\u001b[0;34m(\u001b[0m\u001b[0ms\u001b[0m\u001b[0;34m.\u001b[0m\u001b[0muv\u001b[0m\u001b[0;34m(\u001b[0m\u001b[0;34m)\u001b[0m\u001b[0;34m,\u001b[0m \u001b[0ms\u001b[0m\u001b[0;34m.\u001b[0m\u001b[0mr\u001b[0m\u001b[0;34m(\u001b[0m\u001b[0;34m)\u001b[0m\u001b[0;34m,\u001b[0m \u001b[0;34m\"numpy\"\u001b[0m\u001b[0;34m)\u001b[0m\u001b[0;34m\u001b[0m\u001b[0;34m\u001b[0m\u001b[0m\n\u001b[0m\u001b[1;32m      7\u001b[0m \u001b[0;34m\u001b[0m\u001b[0m\n\u001b[1;32m      8\u001b[0m \u001b[0mfig\u001b[0m \u001b[0;34m=\u001b[0m \u001b[0mplt\u001b[0m\u001b[0;34m.\u001b[0m\u001b[0mfigure\u001b[0m\u001b[0;34m(\u001b[0m\u001b[0;34m)\u001b[0m\u001b[0;34m\u001b[0m\u001b[0;34m\u001b[0m\u001b[0m\n",
      "\u001b[0;31mNameError\u001b[0m: name 's' is not defined"
     ]
    }
   ],
   "source": [
    "import plotly\n",
    "import numpy as np\n",
    "from sympy import lambdify, N\n",
    "\n",
    "f_s = lambdify(s.uv(), s.r(), \"numpy\")\n",
    "\n",
    "# Make data\n",
    "u_limit = tuple([float(u) for u in s.u_limit()])\n",
    "u = np.linspace(*u_limit, num=100)\n",
    "v = np.linspace(0, 6.28, num=100)\n",
    "ug, vg = np.meshgrid(u, v)\n",
    "xg, yg, zg = f_s(ug, vg)\n",
    "\n",
    "# ax.plot_surface(xg, yg, zg, facecolors=cm.jet(zg/np.max(zg)), shade=True)\n",
    "\n",
    "# plt.show()"
   ]
  },
  {
   "cell_type": "code",
   "execution_count": null,
   "metadata": {},
   "outputs": [],
   "source": []
  },
  {
   "cell_type": "code",
   "execution_count": null,
   "metadata": {},
   "outputs": [],
   "source": [
    "import plotly.graph_objects as go\n",
    "from plotly.subplots import make_subplots\n",
    "\n",
    "# Equation of ring cyclide\n",
    "# see https://en.wikipedia.org/wiki/Dupin_cyclide\n",
    "import numpy as np\n",
    "a, b, d = 1.32, 1., 0.8\n",
    "c = a**2 - b**2\n",
    "u, v = np.mgrid[0:2*np.pi:100j, 0:2*np.pi:100j]\n",
    "x = (d * (c - a * np.cos(u) * np.cos(v)) + b**2 * np.cos(u)) / (a - c * np.cos(u) * np.cos(v))\n",
    "y = b * np.sin(u) * (a - d*np.cos(v)) / (a - c * np.cos(u) * np.cos(v))\n",
    "z = b * np.sin(v) * (c*np.cos(u) - d) / (a - c * np.cos(u) * np.cos(v))\n",
    "\n",
    "fig = make_subplots(rows=1, cols=2,\n",
    "                    specs=[[{'is_3d': True}, {'is_3d': True}]],\n",
    "                    subplot_titles=['Color corresponds to z', 'Color corresponds to distance to origin'],\n",
    "                    )\n",
    "\n",
    "fig.add_trace(go.Surface(x=x, y=y, z=z, colorbar_x=-0.07), 1, 1)\n",
    "fig.add_trace(go.Surface(x=x, y=y, z=z, surfacecolor=x**2 + y**2 + z**2), 1, 2)\n",
    "fig.update_layout(title_text=\"Ring cyclide\")\n",
    "fig.show()"
   ]
  },
  {
   "cell_type": "code",
   "execution_count": null,
   "metadata": {},
   "outputs": [],
   "source": []
  },
  {
   "cell_type": "code",
   "execution_count": null,
   "metadata": {},
   "outputs": [],
   "source": []
  },
  {
   "cell_type": "code",
   "execution_count": 46,
   "metadata": {},
   "outputs": [],
   "source": []
  },
  {
   "cell_type": "code",
   "execution_count": null,
   "metadata": {},
   "outputs": [],
   "source": []
  },
  {
   "cell_type": "code",
   "execution_count": null,
   "metadata": {},
   "outputs": [],
   "source": []
  }
 ],
 "metadata": {
  "kernelspec": {
   "display_name": "Python 3",
   "language": "python",
   "name": "python3"
  },
  "language_info": {
   "codemirror_mode": {
    "name": "ipython",
    "version": 3
   },
   "file_extension": ".py",
   "mimetype": "text/x-python",
   "name": "python",
   "nbconvert_exporter": "python",
   "pygments_lexer": "ipython3",
   "version": "3.7.5"
  }
 },
 "nbformat": 4,
 "nbformat_minor": 4
}
