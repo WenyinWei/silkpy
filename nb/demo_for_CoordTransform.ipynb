{
 "cells": [
  {
   "cell_type": "code",
   "execution_count": 6,
   "id": "89c8b5e2",
   "metadata": {},
   "outputs": [],
   "source": [
    "from sympy import init_printing; init_printing();\n",
    "from IPython.core.interactiveshell import InteractiveShell\n",
    "InteractiveShell.ast_node_interactivity = \"all\""
   ]
  },
  {
   "cell_type": "code",
   "execution_count": 7,
   "id": "d536fd3c",
   "metadata": {},
   "outputs": [],
   "source": [
    "from silkpy.geometry_map.coord_transform import CoordTransform\n",
    "from silkpy.geometry_map.coord_transform.predefined import Cylindrical2Cartesian, Cartesian2Cylindrical\n",
    "\n",
    "Cartesian2Cartesian = Cartesian2Cylindrical() | Cylindrical2Cartesian()\n",
    "Cylindrical2Cylindrical = Cylindrical2Cartesian() | Cartesian2Cylindrical()\n"
   ]
  },
  {
   "cell_type": "code",
   "execution_count": 8,
   "id": "cdf17c14",
   "metadata": {
    "scrolled": false
   },
   "outputs": [
    {
     "data": {
      "text/latex": [
       "$\\displaystyle \\left[\\begin{matrix}x & y & z\\end{matrix}\\right]$"
      ],
      "text/plain": [
       "[x  y  z]"
      ]
     },
     "execution_count": 8,
     "metadata": {},
     "output_type": "execute_result"
    },
    {
     "data": {
      "image/png": "[encoded data removed]",
      "text/latex": [
       "$\\displaystyle \\left[ x, \\  y, \\  z\\right]$"
      ],
      "text/plain": [
       "[x, y, z]"
      ]
     },
     "execution_count": 8,
     "metadata": {},
     "output_type": "execute_result"
    }
   ],
   "source": [
    "Cartesian2Cartesian.expr()\n",
    "Cartesian2Cartesian.sym()"
   ]
  },
  {
   "cell_type": "code",
   "execution_count": 9,
   "id": "bfb0dc1a",
   "metadata": {},
   "outputs": [
    {
     "data": {
      "text/latex": [
       "$\\displaystyle \\left[\\begin{matrix}R & Z & \\operatorname{atan_{2}}{\\left(R \\sin{\\left(\\phi \\right)},R \\cos{\\left(\\phi \\right)} \\right)}\\end{matrix}\\right]$"
      ],
      "text/plain": [
       "[R  Z  atan2(R⋅sin(φ), R⋅cos(φ))]"
      ]
     },
     "execution_count": 9,
     "metadata": {},
     "output_type": "execute_result"
    },
    {
     "data": {
      "image/png": "[encoded data removed]",
      "text/latex": [
       "$\\displaystyle \\left[ R, \\  Z, \\  \\phi\\right]$"
      ],
      "text/plain": [
       "[R, Z, φ]"
      ]
     },
     "execution_count": 9,
     "metadata": {},
     "output_type": "execute_result"
    }
   ],
   "source": [
    "Cylindrical2Cylindrical.expr().simplify()\n",
    "Cylindrical2Cylindrical.sym()"
   ]
  },
  {
   "cell_type": "code",
   "execution_count": null,
   "id": "e1568430",
   "metadata": {},
   "outputs": [],
   "source": []
  },
  {
   "cell_type": "code",
   "execution_count": null,
   "id": "c29ac2c9",
   "metadata": {},
   "outputs": [],
   "source": []
  }
 ],
 "metadata": {
  "kernelspec": {
   "display_name": "Python 3",
   "language": "python",
   "name": "python3"
  },
  "language_info": {
   "codemirror_mode": {
    "name": "ipython",
    "version": 3
   },
   "file_extension": ".py",
   "mimetype": "text/x-python",
   "name": "python",
   "nbconvert_exporter": "python",
   "pygments_lexer": "ipython3",
   "version": "3.8.0"
  }
 },
 "nbformat": 4,
 "nbformat_minor": 5
}
