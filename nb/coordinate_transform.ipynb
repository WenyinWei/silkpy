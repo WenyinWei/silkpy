{
 "cells": [
  {
   "cell_type": "code",
   "execution_count": 4,
   "id": "86e6f9e4",
   "metadata": {},
   "outputs": [],
   "source": [
    "from IPython.core.interactiveshell import InteractiveShell\n",
    "InteractiveShell.ast_node_interactivity = \"all\""
   ]
  },
  {
   "cell_type": "code",
   "execution_count": 5,
   "id": "6242b56c",
   "metadata": {},
   "outputs": [],
   "source": [
    "from silkpy.geometry_map.coord_transform import Cylindrical2Cartesian, Cartesian2Cylindrical"
   ]
  },
  {
   "cell_type": "code",
   "execution_count": 9,
   "id": "4cded44d",
   "metadata": {},
   "outputs": [
    {
     "data": {
      "text/latex": [
       "$\\displaystyle \\left[\\begin{matrix}R \\cos{\\left(\\phi \\right)} & R \\sin{\\left(\\phi \\right)} & Z\\end{matrix}\\right]$"
      ],
      "text/plain": [
       "[R*cos(phi), R*sin(phi), Z]"
      ]
     },
     "execution_count": 9,
     "metadata": {},
     "output_type": "execute_result"
    },
    {
     "data": {
      "text/latex": [
       "$\\displaystyle \\left[\\begin{matrix}\\sqrt{x^{2} + y^{2}} & z & \\operatorname{atan_{2}}{\\left(x,y \\right)}\\end{matrix}\\right]$"
      ],
      "text/plain": [
       "[sqrt(x**2 + y**2), z, atan2(x, y)]"
      ]
     },
     "execution_count": 9,
     "metadata": {},
     "output_type": "execute_result"
    },
    {
     "data": {
      "text/latex": [
       "$\\displaystyle \\left[\\begin{matrix}\\cos{\\left(\\phi \\right)} & \\sin{\\left(\\phi \\right)} & 0\\\\0 & 0 & 1\\\\- R \\sin{\\left(\\phi \\right)} & R \\cos{\\left(\\phi \\right)} & 0\\end{matrix}\\right]$"
      ],
      "text/plain": [
       "[[cos(phi), sin(phi), 0], [0, 0, 1], [-R*sin(phi), R*cos(phi), 0]]"
      ]
     },
     "execution_count": 9,
     "metadata": {},
     "output_type": "execute_result"
    },
    {
     "data": {
      "text/latex": [
       "$\\displaystyle \\left[\\begin{matrix}\\frac{x}{\\sqrt{x^{2} + y^{2}}} & 0 & \\frac{y}{x^{2} + y^{2}}\\\\\\frac{y}{\\sqrt{x^{2} + y^{2}}} & 0 & - \\frac{x}{x^{2} + y^{2}}\\\\0 & 1 & 0\\end{matrix}\\right]$"
      ],
      "text/plain": [
       "[[x/sqrt(x**2 + y**2), 0, y/(x**2 + y**2)], [y/sqrt(x**2 + y**2), 0, -x/(x**2 + y**2)], [0, 1, 0]]"
      ]
     },
     "execution_count": 9,
     "metadata": {},
     "output_type": "execute_result"
    }
   ],
   "source": [
    "Cylindrical2Cartesian().expr()\n",
    "Cartesian2Cylindrical().expr()\n",
    "Cylindrical2Cartesian().jacobian()\n",
    "Cartesian2Cylindrical().jacobian()"
   ]
  },
  {
   "cell_type": "code",
   "execution_count": null,
   "id": "d1ac33a9",
   "metadata": {},
   "outputs": [],
   "source": []
  }
 ],
 "metadata": {
  "kernelspec": {
   "display_name": "Python 3",
   "language": "python",
   "name": "python3"
  },
  "language_info": {
   "codemirror_mode": {
    "name": "ipython",
    "version": 3
   },
   "file_extension": ".py",
   "mimetype": "text/x-python",
   "name": "python",
   "nbconvert_exporter": "python",
   "pygments_lexer": "ipython3",
   "version": "3.7.5"
  }
 },
 "nbformat": 4,
 "nbformat_minor": 5
}
